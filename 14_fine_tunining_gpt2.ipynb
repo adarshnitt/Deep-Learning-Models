{
  "cells": [
    {
      "cell_type": "markdown",
      "metadata": {
        "id": "view-in-github",
        "colab_type": "text"
      },
      "source": [
        "<a href=\"https://colab.research.google.com/github/adarshnitt/Deep-Learning-Models/blob/main/14_fine_tunining_gpt2.ipynb\" target=\"_parent\"><img src=\"https://colab.research.google.com/assets/colab-badge.svg\" alt=\"Open In Colab\"/></a>"
      ]
    },
    {
      "cell_type": "code",
      "execution_count": null,
      "metadata": {
        "id": "SwcwXRajHelL"
      },
      "outputs": [],
      "source": [
        "#!nvidia-smi"
      ]
    },
    {
      "cell_type": "code",
      "execution_count": null,
      "metadata": {
        "id": "rpf1Z0k4RJM6"
      },
      "outputs": [],
      "source": [
        "# #!pip install -Uqqq pip --progress-bar off\n",
        "# #!pip install -qqq torch==2.0.1 --progress-bar off\n",
        "# !pip install -qqq transformers==4.32.1 --progress-bar off\n",
        "# !pip install -qqq datasets==2.14.4 --progress-bar off\n",
        "# !pip install -qqq peft==0.5.0 --progress-bar off\n",
        "# !pip install -qqq bitsandbytes==0.41.1 --progress-bar off\n",
        "# #!pip install -qqq trl==0.7.1 --progress-bar off"
      ]
    },
    {
      "cell_type": "code",
      "source": [
        "! pip install peft datasets  bitsandbytes transformers trl"
      ],
      "metadata": {
        "colab": {
          "base_uri": "https://localhost:8080/"
        },
        "id": "uUm1vkYcms6l",
        "outputId": "0db46a6b-8b21-44ae-a32e-2a15ed465726"
      },
      "execution_count": null,
      "outputs": [
        {
          "output_type": "stream",
          "name": "stdout",
          "text": [
            "Requirement already satisfied: peft in /usr/local/lib/python3.10/dist-packages (0.10.0)\n",
            "Requirement already satisfied: datasets in /usr/local/lib/python3.10/dist-packages (2.18.0)\n",
            "Requirement already satisfied: bitsandbytes in /usr/local/lib/python3.10/dist-packages (0.43.0)\n",
            "Requirement already satisfied: transformers in /usr/local/lib/python3.10/dist-packages (4.38.2)\n",
            "Requirement already satisfied: trl in /usr/local/lib/python3.10/dist-packages (0.8.1)\n",
            "Requirement already satisfied: numpy>=1.17 in /usr/local/lib/python3.10/dist-packages (from peft) (1.25.2)\n",
            "Requirement already satisfied: packaging>=20.0 in /usr/local/lib/python3.10/dist-packages (from peft) (24.0)\n",
            "Requirement already satisfied: psutil in /usr/local/lib/python3.10/dist-packages (from peft) (5.9.5)\n",
            "Requirement already satisfied: pyyaml in /usr/local/lib/python3.10/dist-packages (from peft) (6.0.1)\n",
            "Requirement already satisfied: torch>=1.13.0 in /usr/local/lib/python3.10/dist-packages (from peft) (2.2.1+cu121)\n",
            "Requirement already satisfied: tqdm in /usr/local/lib/python3.10/dist-packages (from peft) (4.66.2)\n",
            "Requirement already satisfied: accelerate>=0.21.0 in /usr/local/lib/python3.10/dist-packages (from peft) (0.28.0)\n",
            "Requirement already satisfied: safetensors in /usr/local/lib/python3.10/dist-packages (from peft) (0.4.2)\n",
            "Requirement already satisfied: huggingface-hub>=0.17.0 in /usr/local/lib/python3.10/dist-packages (from peft) (0.20.3)\n",
            "Requirement already satisfied: filelock in /usr/local/lib/python3.10/dist-packages (from datasets) (3.13.3)\n",
            "Requirement already satisfied: pyarrow>=12.0.0 in /usr/local/lib/python3.10/dist-packages (from datasets) (14.0.2)\n",
            "Requirement already satisfied: pyarrow-hotfix in /usr/local/lib/python3.10/dist-packages (from datasets) (0.6)\n",
            "Requirement already satisfied: dill<0.3.9,>=0.3.0 in /usr/local/lib/python3.10/dist-packages (from datasets) (0.3.8)\n",
            "Requirement already satisfied: pandas in /usr/local/lib/python3.10/dist-packages (from datasets) (2.0.3)\n",
            "Requirement already satisfied: requests>=2.19.0 in /usr/local/lib/python3.10/dist-packages (from datasets) (2.31.0)\n",
            "Requirement already satisfied: xxhash in /usr/local/lib/python3.10/dist-packages (from datasets) (3.4.1)\n",
            "Requirement already satisfied: multiprocess in /usr/local/lib/python3.10/dist-packages (from datasets) (0.70.16)\n",
            "Requirement already satisfied: fsspec[http]<=2024.2.0,>=2023.1.0 in /usr/local/lib/python3.10/dist-packages (from datasets) (2023.6.0)\n",
            "Requirement already satisfied: aiohttp in /usr/local/lib/python3.10/dist-packages (from datasets) (3.9.3)\n",
            "Requirement already satisfied: regex!=2019.12.17 in /usr/local/lib/python3.10/dist-packages (from transformers) (2023.12.25)\n",
            "Requirement already satisfied: tokenizers<0.19,>=0.14 in /usr/local/lib/python3.10/dist-packages (from transformers) (0.15.2)\n",
            "Requirement already satisfied: tyro>=0.5.11 in /usr/local/lib/python3.10/dist-packages (from trl) (0.8.0)\n",
            "Requirement already satisfied: aiosignal>=1.1.2 in /usr/local/lib/python3.10/dist-packages (from aiohttp->datasets) (1.3.1)\n",
            "Requirement already satisfied: attrs>=17.3.0 in /usr/local/lib/python3.10/dist-packages (from aiohttp->datasets) (23.2.0)\n",
            "Requirement already satisfied: frozenlist>=1.1.1 in /usr/local/lib/python3.10/dist-packages (from aiohttp->datasets) (1.4.1)\n",
            "Requirement already satisfied: multidict<7.0,>=4.5 in /usr/local/lib/python3.10/dist-packages (from aiohttp->datasets) (6.0.5)\n",
            "Requirement already satisfied: yarl<2.0,>=1.0 in /usr/local/lib/python3.10/dist-packages (from aiohttp->datasets) (1.9.4)\n",
            "Requirement already satisfied: async-timeout<5.0,>=4.0 in /usr/local/lib/python3.10/dist-packages (from aiohttp->datasets) (4.0.3)\n",
            "Requirement already satisfied: typing-extensions>=3.7.4.3 in /usr/local/lib/python3.10/dist-packages (from huggingface-hub>=0.17.0->peft) (4.10.0)\n",
            "Requirement already satisfied: charset-normalizer<4,>=2 in /usr/local/lib/python3.10/dist-packages (from requests>=2.19.0->datasets) (3.3.2)\n",
            "Requirement already satisfied: idna<4,>=2.5 in /usr/local/lib/python3.10/dist-packages (from requests>=2.19.0->datasets) (3.6)\n",
            "Requirement already satisfied: urllib3<3,>=1.21.1 in /usr/local/lib/python3.10/dist-packages (from requests>=2.19.0->datasets) (2.0.7)\n",
            "Requirement already satisfied: certifi>=2017.4.17 in /usr/local/lib/python3.10/dist-packages (from requests>=2.19.0->datasets) (2024.2.2)\n",
            "Requirement already satisfied: sympy in /usr/local/lib/python3.10/dist-packages (from torch>=1.13.0->peft) (1.12)\n",
            "Requirement already satisfied: networkx in /usr/local/lib/python3.10/dist-packages (from torch>=1.13.0->peft) (3.2.1)\n",
            "Requirement already satisfied: jinja2 in /usr/local/lib/python3.10/dist-packages (from torch>=1.13.0->peft) (3.1.3)\n",
            "Requirement already satisfied: nvidia-cuda-nvrtc-cu12==12.1.105 in /usr/local/lib/python3.10/dist-packages (from torch>=1.13.0->peft) (12.1.105)\n",
            "Requirement already satisfied: nvidia-cuda-runtime-cu12==12.1.105 in /usr/local/lib/python3.10/dist-packages (from torch>=1.13.0->peft) (12.1.105)\n",
            "Requirement already satisfied: nvidia-cuda-cupti-cu12==12.1.105 in /usr/local/lib/python3.10/dist-packages (from torch>=1.13.0->peft) (12.1.105)\n",
            "Requirement already satisfied: nvidia-cudnn-cu12==8.9.2.26 in /usr/local/lib/python3.10/dist-packages (from torch>=1.13.0->peft) (8.9.2.26)\n",
            "Requirement already satisfied: nvidia-cublas-cu12==12.1.3.1 in /usr/local/lib/python3.10/dist-packages (from torch>=1.13.0->peft) (12.1.3.1)\n",
            "Requirement already satisfied: nvidia-cufft-cu12==11.0.2.54 in /usr/local/lib/python3.10/dist-packages (from torch>=1.13.0->peft) (11.0.2.54)\n",
            "Requirement already satisfied: nvidia-curand-cu12==10.3.2.106 in /usr/local/lib/python3.10/dist-packages (from torch>=1.13.0->peft) (10.3.2.106)\n",
            "Requirement already satisfied: nvidia-cusolver-cu12==11.4.5.107 in /usr/local/lib/python3.10/dist-packages (from torch>=1.13.0->peft) (11.4.5.107)\n",
            "Requirement already satisfied: nvidia-cusparse-cu12==12.1.0.106 in /usr/local/lib/python3.10/dist-packages (from torch>=1.13.0->peft) (12.1.0.106)\n",
            "Requirement already satisfied: nvidia-nccl-cu12==2.19.3 in /usr/local/lib/python3.10/dist-packages (from torch>=1.13.0->peft) (2.19.3)\n",
            "Requirement already satisfied: nvidia-nvtx-cu12==12.1.105 in /usr/local/lib/python3.10/dist-packages (from torch>=1.13.0->peft) (12.1.105)\n",
            "Requirement already satisfied: triton==2.2.0 in /usr/local/lib/python3.10/dist-packages (from torch>=1.13.0->peft) (2.2.0)\n",
            "Requirement already satisfied: nvidia-nvjitlink-cu12 in /usr/local/lib/python3.10/dist-packages (from nvidia-cusolver-cu12==11.4.5.107->torch>=1.13.0->peft) (12.4.127)\n",
            "Requirement already satisfied: docstring-parser>=0.14.1 in /usr/local/lib/python3.10/dist-packages (from tyro>=0.5.11->trl) (0.16)\n",
            "Requirement already satisfied: rich>=11.1.0 in /usr/local/lib/python3.10/dist-packages (from tyro>=0.5.11->trl) (13.7.1)\n",
            "Requirement already satisfied: shtab>=1.5.6 in /usr/local/lib/python3.10/dist-packages (from tyro>=0.5.11->trl) (1.7.1)\n",
            "Requirement already satisfied: python-dateutil>=2.8.2 in /usr/local/lib/python3.10/dist-packages (from pandas->datasets) (2.8.2)\n",
            "Requirement already satisfied: pytz>=2020.1 in /usr/local/lib/python3.10/dist-packages (from pandas->datasets) (2023.4)\n",
            "Requirement already satisfied: tzdata>=2022.1 in /usr/local/lib/python3.10/dist-packages (from pandas->datasets) (2024.1)\n",
            "Requirement already satisfied: six>=1.5 in /usr/local/lib/python3.10/dist-packages (from python-dateutil>=2.8.2->pandas->datasets) (1.16.0)\n",
            "Requirement already satisfied: markdown-it-py>=2.2.0 in /usr/local/lib/python3.10/dist-packages (from rich>=11.1.0->tyro>=0.5.11->trl) (3.0.0)\n",
            "Requirement already satisfied: pygments<3.0.0,>=2.13.0 in /usr/local/lib/python3.10/dist-packages (from rich>=11.1.0->tyro>=0.5.11->trl) (2.16.1)\n",
            "Requirement already satisfied: MarkupSafe>=2.0 in /usr/local/lib/python3.10/dist-packages (from jinja2->torch>=1.13.0->peft) (2.1.5)\n",
            "Requirement already satisfied: mpmath>=0.19 in /usr/local/lib/python3.10/dist-packages (from sympy->torch>=1.13.0->peft) (1.3.0)\n",
            "Requirement already satisfied: mdurl~=0.1 in /usr/local/lib/python3.10/dist-packages (from markdown-it-py>=2.2.0->rich>=11.1.0->tyro>=0.5.11->trl) (0.1.2)\n"
          ]
        }
      ]
    },
    {
      "cell_type": "code",
      "execution_count": null,
      "metadata": {
        "id": "P1PG0WSvRqVq",
        "colab": {
          "base_uri": "https://localhost:8080/"
        },
        "outputId": "bf61b1c5-73ec-4d64-cdec-cd6ef6be8724"
      },
      "outputs": [
        {
          "output_type": "stream",
          "name": "stderr",
          "text": [
            "/usr/local/lib/python3.10/dist-packages/bitsandbytes/cextension.py:31: UserWarning: The installed version of bitsandbytes was compiled without GPU support. 8-bit optimizers, 8-bit multiplication, and GPU quantization are unavailable.\n",
            "  warn(\"The installed version of bitsandbytes was compiled without GPU support. \"\n"
          ]
        },
        {
          "output_type": "stream",
          "name": "stdout",
          "text": [
            "/usr/local/lib/python3.10/dist-packages/bitsandbytes/libbitsandbytes_cpu.so: undefined symbol: cadam32bit_grad_fp32\n"
          ]
        }
      ],
      "source": [
        "import json\n",
        "import re\n",
        "from pprint import pprint\n",
        "\n",
        "import pandas as pd\n",
        "import torch\n",
        "from datasets import Dataset, load_dataset\n",
        "from huggingface_hub import notebook_login\n",
        "from peft import LoraConfig, PeftModel\n",
        "from transformers import (\n",
        "    AutoModelForCausalLM,\n",
        "    AutoTokenizer,\n",
        "    BitsAndBytesConfig,\n",
        "    TrainingArguments,\n",
        ")"
      ]
    },
    {
      "cell_type": "code",
      "source": [
        "! pip install trl\n",
        "from trl import SFTTrainer # supervised fine tuning trainer\n",
        "\n",
        "DEVICE = \"cuda:0\" if torch.cuda.is_available() else \"cpu\"\n",
        "MODEL_NAME = \"meta-llama/Llama-2-7b-hf\""
      ],
      "metadata": {
        "colab": {
          "base_uri": "https://localhost:8080/"
        },
        "id": "s29IswJunUbY",
        "outputId": "75cd5491-a654-46e2-f25b-e16c88fb30c8"
      },
      "execution_count": null,
      "outputs": [
        {
          "output_type": "stream",
          "name": "stdout",
          "text": [
            "Requirement already satisfied: trl in /usr/local/lib/python3.10/dist-packages (0.8.1)\n",
            "Requirement already satisfied: torch>=1.4.0 in /usr/local/lib/python3.10/dist-packages (from trl) (2.2.1+cu121)\n",
            "Requirement already satisfied: transformers>=4.31.0 in /usr/local/lib/python3.10/dist-packages (from trl) (4.38.2)\n",
            "Requirement already satisfied: numpy>=1.18.2 in /usr/local/lib/python3.10/dist-packages (from trl) (1.25.2)\n",
            "Requirement already satisfied: accelerate in /usr/local/lib/python3.10/dist-packages (from trl) (0.28.0)\n",
            "Requirement already satisfied: datasets in /usr/local/lib/python3.10/dist-packages (from trl) (2.18.0)\n",
            "Requirement already satisfied: tyro>=0.5.11 in /usr/local/lib/python3.10/dist-packages (from trl) (0.8.0)\n",
            "Requirement already satisfied: filelock in /usr/local/lib/python3.10/dist-packages (from torch>=1.4.0->trl) (3.13.3)\n",
            "Requirement already satisfied: typing-extensions>=4.8.0 in /usr/local/lib/python3.10/dist-packages (from torch>=1.4.0->trl) (4.10.0)\n",
            "Requirement already satisfied: sympy in /usr/local/lib/python3.10/dist-packages (from torch>=1.4.0->trl) (1.12)\n",
            "Requirement already satisfied: networkx in /usr/local/lib/python3.10/dist-packages (from torch>=1.4.0->trl) (3.2.1)\n",
            "Requirement already satisfied: jinja2 in /usr/local/lib/python3.10/dist-packages (from torch>=1.4.0->trl) (3.1.3)\n",
            "Requirement already satisfied: fsspec in /usr/local/lib/python3.10/dist-packages (from torch>=1.4.0->trl) (2023.6.0)\n",
            "Requirement already satisfied: nvidia-cuda-nvrtc-cu12==12.1.105 in /usr/local/lib/python3.10/dist-packages (from torch>=1.4.0->trl) (12.1.105)\n",
            "Requirement already satisfied: nvidia-cuda-runtime-cu12==12.1.105 in /usr/local/lib/python3.10/dist-packages (from torch>=1.4.0->trl) (12.1.105)\n",
            "Requirement already satisfied: nvidia-cuda-cupti-cu12==12.1.105 in /usr/local/lib/python3.10/dist-packages (from torch>=1.4.0->trl) (12.1.105)\n",
            "Requirement already satisfied: nvidia-cudnn-cu12==8.9.2.26 in /usr/local/lib/python3.10/dist-packages (from torch>=1.4.0->trl) (8.9.2.26)\n",
            "Requirement already satisfied: nvidia-cublas-cu12==12.1.3.1 in /usr/local/lib/python3.10/dist-packages (from torch>=1.4.0->trl) (12.1.3.1)\n",
            "Requirement already satisfied: nvidia-cufft-cu12==11.0.2.54 in /usr/local/lib/python3.10/dist-packages (from torch>=1.4.0->trl) (11.0.2.54)\n",
            "Requirement already satisfied: nvidia-curand-cu12==10.3.2.106 in /usr/local/lib/python3.10/dist-packages (from torch>=1.4.0->trl) (10.3.2.106)\n",
            "Requirement already satisfied: nvidia-cusolver-cu12==11.4.5.107 in /usr/local/lib/python3.10/dist-packages (from torch>=1.4.0->trl) (11.4.5.107)\n",
            "Requirement already satisfied: nvidia-cusparse-cu12==12.1.0.106 in /usr/local/lib/python3.10/dist-packages (from torch>=1.4.0->trl) (12.1.0.106)\n",
            "Requirement already satisfied: nvidia-nccl-cu12==2.19.3 in /usr/local/lib/python3.10/dist-packages (from torch>=1.4.0->trl) (2.19.3)\n",
            "Requirement already satisfied: nvidia-nvtx-cu12==12.1.105 in /usr/local/lib/python3.10/dist-packages (from torch>=1.4.0->trl) (12.1.105)\n",
            "Requirement already satisfied: triton==2.2.0 in /usr/local/lib/python3.10/dist-packages (from torch>=1.4.0->trl) (2.2.0)\n",
            "Requirement already satisfied: nvidia-nvjitlink-cu12 in /usr/local/lib/python3.10/dist-packages (from nvidia-cusolver-cu12==11.4.5.107->torch>=1.4.0->trl) (12.4.127)\n",
            "Requirement already satisfied: huggingface-hub<1.0,>=0.19.3 in /usr/local/lib/python3.10/dist-packages (from transformers>=4.31.0->trl) (0.20.3)\n",
            "Requirement already satisfied: packaging>=20.0 in /usr/local/lib/python3.10/dist-packages (from transformers>=4.31.0->trl) (24.0)\n",
            "Requirement already satisfied: pyyaml>=5.1 in /usr/local/lib/python3.10/dist-packages (from transformers>=4.31.0->trl) (6.0.1)\n",
            "Requirement already satisfied: regex!=2019.12.17 in /usr/local/lib/python3.10/dist-packages (from transformers>=4.31.0->trl) (2023.12.25)\n",
            "Requirement already satisfied: requests in /usr/local/lib/python3.10/dist-packages (from transformers>=4.31.0->trl) (2.31.0)\n",
            "Requirement already satisfied: tokenizers<0.19,>=0.14 in /usr/local/lib/python3.10/dist-packages (from transformers>=4.31.0->trl) (0.15.2)\n",
            "Requirement already satisfied: safetensors>=0.4.1 in /usr/local/lib/python3.10/dist-packages (from transformers>=4.31.0->trl) (0.4.2)\n",
            "Requirement already satisfied: tqdm>=4.27 in /usr/local/lib/python3.10/dist-packages (from transformers>=4.31.0->trl) (4.66.2)\n",
            "Requirement already satisfied: docstring-parser>=0.14.1 in /usr/local/lib/python3.10/dist-packages (from tyro>=0.5.11->trl) (0.16)\n",
            "Requirement already satisfied: rich>=11.1.0 in /usr/local/lib/python3.10/dist-packages (from tyro>=0.5.11->trl) (13.7.1)\n",
            "Requirement already satisfied: shtab>=1.5.6 in /usr/local/lib/python3.10/dist-packages (from tyro>=0.5.11->trl) (1.7.1)\n",
            "Requirement already satisfied: psutil in /usr/local/lib/python3.10/dist-packages (from accelerate->trl) (5.9.5)\n",
            "Requirement already satisfied: pyarrow>=12.0.0 in /usr/local/lib/python3.10/dist-packages (from datasets->trl) (14.0.2)\n",
            "Requirement already satisfied: pyarrow-hotfix in /usr/local/lib/python3.10/dist-packages (from datasets->trl) (0.6)\n",
            "Requirement already satisfied: dill<0.3.9,>=0.3.0 in /usr/local/lib/python3.10/dist-packages (from datasets->trl) (0.3.8)\n",
            "Requirement already satisfied: pandas in /usr/local/lib/python3.10/dist-packages (from datasets->trl) (2.0.3)\n",
            "Requirement already satisfied: xxhash in /usr/local/lib/python3.10/dist-packages (from datasets->trl) (3.4.1)\n",
            "Requirement already satisfied: multiprocess in /usr/local/lib/python3.10/dist-packages (from datasets->trl) (0.70.16)\n",
            "Requirement already satisfied: aiohttp in /usr/local/lib/python3.10/dist-packages (from datasets->trl) (3.9.3)\n",
            "Requirement already satisfied: aiosignal>=1.1.2 in /usr/local/lib/python3.10/dist-packages (from aiohttp->datasets->trl) (1.3.1)\n",
            "Requirement already satisfied: attrs>=17.3.0 in /usr/local/lib/python3.10/dist-packages (from aiohttp->datasets->trl) (23.2.0)\n",
            "Requirement already satisfied: frozenlist>=1.1.1 in /usr/local/lib/python3.10/dist-packages (from aiohttp->datasets->trl) (1.4.1)\n",
            "Requirement already satisfied: multidict<7.0,>=4.5 in /usr/local/lib/python3.10/dist-packages (from aiohttp->datasets->trl) (6.0.5)\n",
            "Requirement already satisfied: yarl<2.0,>=1.0 in /usr/local/lib/python3.10/dist-packages (from aiohttp->datasets->trl) (1.9.4)\n",
            "Requirement already satisfied: async-timeout<5.0,>=4.0 in /usr/local/lib/python3.10/dist-packages (from aiohttp->datasets->trl) (4.0.3)\n",
            "Requirement already satisfied: charset-normalizer<4,>=2 in /usr/local/lib/python3.10/dist-packages (from requests->transformers>=4.31.0->trl) (3.3.2)\n",
            "Requirement already satisfied: idna<4,>=2.5 in /usr/local/lib/python3.10/dist-packages (from requests->transformers>=4.31.0->trl) (3.6)\n",
            "Requirement already satisfied: urllib3<3,>=1.21.1 in /usr/local/lib/python3.10/dist-packages (from requests->transformers>=4.31.0->trl) (2.0.7)\n",
            "Requirement already satisfied: certifi>=2017.4.17 in /usr/local/lib/python3.10/dist-packages (from requests->transformers>=4.31.0->trl) (2024.2.2)\n",
            "Requirement already satisfied: markdown-it-py>=2.2.0 in /usr/local/lib/python3.10/dist-packages (from rich>=11.1.0->tyro>=0.5.11->trl) (3.0.0)\n",
            "Requirement already satisfied: pygments<3.0.0,>=2.13.0 in /usr/local/lib/python3.10/dist-packages (from rich>=11.1.0->tyro>=0.5.11->trl) (2.16.1)\n",
            "Requirement already satisfied: MarkupSafe>=2.0 in /usr/local/lib/python3.10/dist-packages (from jinja2->torch>=1.4.0->trl) (2.1.5)\n",
            "Requirement already satisfied: python-dateutil>=2.8.2 in /usr/local/lib/python3.10/dist-packages (from pandas->datasets->trl) (2.8.2)\n",
            "Requirement already satisfied: pytz>=2020.1 in /usr/local/lib/python3.10/dist-packages (from pandas->datasets->trl) (2023.4)\n",
            "Requirement already satisfied: tzdata>=2022.1 in /usr/local/lib/python3.10/dist-packages (from pandas->datasets->trl) (2024.1)\n",
            "Requirement already satisfied: mpmath>=0.19 in /usr/local/lib/python3.10/dist-packages (from sympy->torch>=1.4.0->trl) (1.3.0)\n",
            "Requirement already satisfied: mdurl~=0.1 in /usr/local/lib/python3.10/dist-packages (from markdown-it-py>=2.2.0->rich>=11.1.0->tyro>=0.5.11->trl) (0.1.2)\n",
            "Requirement already satisfied: six>=1.5 in /usr/local/lib/python3.10/dist-packages (from python-dateutil>=2.8.2->pandas->datasets->trl) (1.16.0)\n"
          ]
        }
      ]
    },
    {
      "cell_type": "markdown",
      "metadata": {
        "id": "4ixsX2Y4doEf"
      },
      "source": [
        "## Data"
      ]
    },
    {
      "cell_type": "code",
      "source": [
        "dataset = load_dataset(\"Salesforce/dialogstudio\", \"TweetSumm\")\n",
        "dataset"
      ],
      "metadata": {
        "colab": {
          "base_uri": "https://localhost:8080/"
        },
        "id": "Kc0CVTtUkWvl",
        "outputId": "d6c80eff-7a15-404f-9004-40c3f619da5b"
      },
      "execution_count": null,
      "outputs": [
        {
          "output_type": "stream",
          "name": "stderr",
          "text": [
            "/usr/local/lib/python3.10/dist-packages/huggingface_hub/utils/_token.py:88: UserWarning: \n",
            "The secret `HF_TOKEN` does not exist in your Colab secrets.\n",
            "To authenticate with the Hugging Face Hub, create a token in your settings tab (https://huggingface.co/settings/tokens), set it as secret in your Google Colab and restart your session.\n",
            "You will be able to reuse this secret in all of your notebooks.\n",
            "Please note that authentication is recommended but still optional to access public models or datasets.\n",
            "  warnings.warn(\n",
            "/usr/local/lib/python3.10/dist-packages/datasets/load.py:1461: FutureWarning: The repository for Salesforce/dialogstudio contains custom code which must be executed to correctly load the dataset. You can inspect the repository content at https://hf.co/datasets/Salesforce/dialogstudio\n",
            "You can avoid this message in future by passing the argument `trust_remote_code=True`.\n",
            "Passing `trust_remote_code=True` will be mandatory to load this dataset from the next major release of `datasets`.\n",
            "  warnings.warn(\n"
          ]
        },
        {
          "output_type": "execute_result",
          "data": {
            "text/plain": [
              "DatasetDict({\n",
              "    train: Dataset({\n",
              "        features: ['original dialog id', 'new dialog id', 'dialog index', 'original dialog info', 'log', 'prompt'],\n",
              "        num_rows: 879\n",
              "    })\n",
              "    validation: Dataset({\n",
              "        features: ['original dialog id', 'new dialog id', 'dialog index', 'original dialog info', 'log', 'prompt'],\n",
              "        num_rows: 110\n",
              "    })\n",
              "    test: Dataset({\n",
              "        features: ['original dialog id', 'new dialog id', 'dialog index', 'original dialog info', 'log', 'prompt'],\n",
              "        num_rows: 110\n",
              "    })\n",
              "})"
            ]
          },
          "metadata": {},
          "execution_count": 6
        }
      ]
    },
    {
      "cell_type": "code",
      "source": [
        "DEFAULT_SYSTEM_PROMPT = \"\"\"\n",
        "Below is a conversation between a human and an AI agent. Write a summary of the conversation.\n",
        "\"\"\".strip()\n",
        "\n",
        "\n",
        "def generate_training_prompt(\n",
        "    conversation: str, summary: str, system_prompt: str = DEFAULT_SYSTEM_PROMPT\n",
        ") -> str:\n",
        "    return f\"\"\"### Instruction: {system_prompt}\n",
        "\n",
        "### Input:\n",
        "{conversation.strip()}\n",
        "\n",
        "### Response:\n",
        "{summary}\n",
        "\"\"\".strip()"
      ],
      "metadata": {
        "id": "fbx71jhaMGK5"
      },
      "execution_count": null,
      "outputs": []
    },
    {
      "cell_type": "code",
      "source": [
        "def clean_text(text):\n",
        "    text = re.sub(r\"http\\S+\", \"\", text) # remove leading trails\n",
        "    text = re.sub(r\"@[^\\s]+\", \"\", text)\n",
        "    text = re.sub(r\"\\s+\", \" \", text)\n",
        "    return re.sub(r\"\\^[^ ]+\", \"\", text)\n",
        "\n",
        "\n",
        "def create_conversation_text(data_point):\n",
        "    text = \"\"\n",
        "    for item in data_point[\"log\"]:\n",
        "        user = clean_text(item[\"user utterance\"])\n",
        "        text += f\"user: {user.strip()}\\n\"\n",
        "\n",
        "        agent = clean_text(item[\"system response\"])\n",
        "        text += f\"agent: {agent.strip()}\\n\"\n",
        "\n",
        "    return text"
      ],
      "metadata": {
        "id": "gMfzUJVOR9Lr"
      },
      "execution_count": null,
      "outputs": []
    },
    {
      "cell_type": "code",
      "source": [
        "def generate_text(data_point):\n",
        "    summaries = json.loads(data_point[\"original dialog info\"])[\"summaries\"][\n",
        "        \"abstractive_summaries\"\n",
        "    ]\n",
        "    summary = summaries[0]\n",
        "    summary = \" \".join(summary)\n",
        "\n",
        "    conversation_text = create_conversation_text(data_point)\n",
        "    return {\n",
        "        \"conversation\": conversation_text,\n",
        "        \"summary\": summary,\n",
        "        \"text\": generate_training_prompt(conversation_text, summary),\n",
        "    }"
      ],
      "metadata": {
        "id": "eRbskn48QNfW"
      },
      "execution_count": null,
      "outputs": []
    },
    {
      "cell_type": "code",
      "source": [
        "example = generate_text(dataset[\"train\"][0])"
      ],
      "metadata": {
        "id": "J9VuGHGYSR5q"
      },
      "execution_count": null,
      "outputs": []
    },
    {
      "cell_type": "code",
      "source": [
        "print(example[\"summary\"])"
      ],
      "metadata": {
        "colab": {
          "base_uri": "https://localhost:8080/"
        },
        "id": "ycfL7LvHSu2h",
        "outputId": "f69949bd-abbb-4622-c0e2-0b242850cfff"
      },
      "execution_count": null,
      "outputs": [
        {
          "output_type": "stream",
          "name": "stdout",
          "text": [
            "Customer enquired about his Iphone and Apple watch which is not showing his any steps/activity and health activities. Agent is asking to move to DM and look into it.\n"
          ]
        }
      ]
    },
    {
      "cell_type": "code",
      "source": [
        "print(example[\"conversation\"])"
      ],
      "metadata": {
        "colab": {
          "base_uri": "https://localhost:8080/"
        },
        "id": "eL7EDMq_SxlJ",
        "outputId": "fe4f997f-16bd-4228-915b-1b3bee706be2"
      },
      "execution_count": null,
      "outputs": [
        {
          "output_type": "stream",
          "name": "stdout",
          "text": [
            "user: So neither my iPhone nor my Apple Watch are recording my steps/activity, and Health doesn’t recognise either source anymore for some reason. Any ideas? please read the above.\n",
            "agent: Let’s investigate this together. To start, can you tell us the software versions your iPhone and Apple Watch are running currently?\n",
            "user: My iPhone is on 11.1.2, and my watch is on 4.1.\n",
            "agent: Thank you. Have you tried restarting both devices since this started happening?\n",
            "user: I’ve restarted both, also un-paired then re-paired the watch.\n",
            "agent: Got it. When did you first notice that the two devices were not talking to each other. Do the two devices communicate through other apps such as Messages?\n",
            "user: Yes, everything seems fine, it’s just Health and activity.\n",
            "agent: Let’s move to DM and look into this a bit more. When reaching out in DM, let us know when this first started happening please. For example, did it start after an update or after installing a certain app?\n",
            "\n"
          ]
        }
      ]
    },
    {
      "cell_type": "code",
      "source": [
        "# this is goving to use in my dataset\n",
        "print(example[\"text\"])"
      ],
      "metadata": {
        "colab": {
          "base_uri": "https://localhost:8080/"
        },
        "id": "BbiL_o5dZZhg",
        "outputId": "05bb10fa-bf34-4aa9-fc78-0a13e994ff5a"
      },
      "execution_count": null,
      "outputs": [
        {
          "output_type": "stream",
          "name": "stdout",
          "text": [
            "### Instruction: Below is a conversation between a human and an AI agent. Write a summary of the conversation.\n",
            "\n",
            "### Input:\n",
            "user: So neither my iPhone nor my Apple Watch are recording my steps/activity, and Health doesn’t recognise either source anymore for some reason. Any ideas? please read the above.\n",
            "agent: Let’s investigate this together. To start, can you tell us the software versions your iPhone and Apple Watch are running currently?\n",
            "user: My iPhone is on 11.1.2, and my watch is on 4.1.\n",
            "agent: Thank you. Have you tried restarting both devices since this started happening?\n",
            "user: I’ve restarted both, also un-paired then re-paired the watch.\n",
            "agent: Got it. When did you first notice that the two devices were not talking to each other. Do the two devices communicate through other apps such as Messages?\n",
            "user: Yes, everything seems fine, it’s just Health and activity.\n",
            "agent: Let’s move to DM and look into this a bit more. When reaching out in DM, let us know when this first started happening please. For example, did it start after an update or after installing a certain app?\n",
            "\n",
            "### Response:\n",
            "Customer enquired about his Iphone and Apple watch which is not showing his any steps/activity and health activities. Agent is asking to move to DM and look into it.\n"
          ]
        }
      ]
    },
    {
      "cell_type": "code",
      "source": [
        "def process_dataset(data: Dataset):\n",
        "    return (\n",
        "        data.shuffle(seed=42)\n",
        "        .map(generate_text)\n",
        "        .remove_columns(\n",
        "            [\n",
        "                \"original dialog id\",\n",
        "                \"new dialog id\",\n",
        "                \"dialog index\",\n",
        "                \"original dialog info\",\n",
        "                \"log\",\n",
        "                \"prompt\",\n",
        "            ]\n",
        "        )\n",
        "    )"
      ],
      "metadata": {
        "id": "jKidKeUpZkPb"
      },
      "execution_count": null,
      "outputs": []
    },
    {
      "cell_type": "code",
      "source": [
        "dataset[\"train\"] = process_dataset(dataset[\"train\"])\n",
        "dataset[\"validation\"] = process_dataset(dataset[\"validation\"])"
      ],
      "metadata": {
        "id": "XHy1pVjlaLtm"
      },
      "execution_count": null,
      "outputs": []
    },
    {
      "cell_type": "markdown",
      "metadata": {
        "id": "usDeQuT2Wssl"
      },
      "source": [
        "## Model"
      ]
    },
    {
      "cell_type": "code",
      "execution_count": null,
      "metadata": {
        "colab": {
          "base_uri": "https://localhost:8080/",
          "height": 359,
          "referenced_widgets": [
            "0b17b38f37134fffb3a16cd904947aa1",
            "6632bc8faa804055bd12ff012381d5bb",
            "dd82831007ed43e890a112f263748ed3",
            "f83da4b1a06245daabe0308facd653e7",
            "288bbb9e8ec14518b0568c1dc1093b85",
            "25e8c88a034d4874865ffb6a0eac2701",
            "12f6d04984164343a73247a56d114942",
            "a73b1245055a4f89923e9bb57c45cf59",
            "ad1e237ba1264c6e9fda82a1eb246296",
            "3f2783a605f342ef84669f9ab58ca5c2",
            "990208d79cf74dc989e5432062d389cf",
            "b3baf30ace804de4a891642f59406c78",
            "b9384c9615cc484e8d67a13b43386f43",
            "8a88871ece674046aec4c34f9be3d2df",
            "28dd41bfafdf475d9ad04c8922d567b6",
            "b375c5fce5b6465e85e102698d205596",
            "7e9f0c9607d24bf49ef213f1335a4fda"
          ]
        },
        "id": "3cLg8cYCdv74",
        "outputId": "dd4a1309-27aa-446d-e274-ef354912eb50"
      },
      "outputs": [
        {
          "output_type": "display_data",
          "data": {
            "text/plain": [
              "VBox(children=(HTML(value='<center> <img\\nsrc=https://huggingface.co/front/assets/huggingface_logo-noborder.sv…"
            ],
            "application/vnd.jupyter.widget-view+json": {
              "version_major": 2,
              "version_minor": 0,
              "model_id": "0b17b38f37134fffb3a16cd904947aa1"
            }
          },
          "metadata": {}
        }
      ],
      "source": [
        "notebook_login()"
      ]
    },
    {
      "cell_type": "code",
      "execution_count": null,
      "metadata": {
        "id": "GwxKEVnKWWss"
      },
      "outputs": [],
      "source": [
        "def create_model_and_tokenizer():\n",
        "    bnb_config = BitsAndBytesConfig(\n",
        "        load_in_4bit=True,\n",
        "        bnb_4bit_quant_type=\"nf4\",\n",
        "        bnb_4bit_compute_dtype=torch.float16,\n",
        "    )\n",
        "\n",
        "    model = AutoModelForCausalLM.from_pretrained(\"distilbert/distilgpt2\")\n",
        "\n",
        "    tokenizer = AutoTokenizer.from_pretrained(MODEL_NAME)\n",
        "    tokenizer.pad_token = tokenizer.eos_token\n",
        "    tokenizer.padding_side = \"right\"\n",
        "\n",
        "    return model, tokenizer\n",
        "MODEL_NAME = \"distilbert/distilgpt2\"\n",
        "model, tokenizer = create_model_and_tokenizer()"
      ]
    },
    {
      "cell_type": "code",
      "execution_count": null,
      "metadata": {
        "id": "qDVlGrUmdzdh"
      },
      "outputs": [],
      "source": [
        "# model, tokenizer = create_model_and_tokenizer()\n",
        "model.config.use_cache = False"
      ]
    },
    {
      "cell_type": "code",
      "execution_count": null,
      "metadata": {
        "id": "DRubXChbe7pL"
      },
      "outputs": [],
      "source": [
        "# model.config.quantization_config.to_dict()"
      ]
    },
    {
      "cell_type": "code",
      "execution_count": null,
      "metadata": {
        "id": "1Sj65mDxNeJv"
      },
      "outputs": [],
      "source": [
        "lora_r = 16\n",
        "lora_alpha = 64\n",
        "lora_dropout = 0.1\n",
        "lora_target_modules = [\n",
        "    \"q_proj\",\n",
        "    \"up_proj\",\n",
        "    \"o_proj\",\n",
        "    \"k_proj\",\n",
        "    \"down_proj\",\n",
        "    \"gate_proj\",\n",
        "    \"v_proj\",\n",
        "]\n",
        "\n",
        "\n",
        "peft_config = LoraConfig(\n",
        "    r=lora_r,\n",
        "    lora_alpha=lora_alpha,\n",
        "    lora_dropout=lora_dropout,\n",
        "    #target_modules=lora_target_modules,\n",
        "    bias=\"none\",\n",
        "    task_type=\"CAUSAL_LM\",\n",
        ")"
      ]
    },
    {
      "cell_type": "markdown",
      "metadata": {
        "id": "vVSLIcQl8g9h"
      },
      "source": [
        "## Training"
      ]
    },
    {
      "cell_type": "code",
      "source": [
        "OUTPUT_DIR = \"experiments\"\n",
        "# #\n",
        "# %load_ext tensorboard\n",
        "# %tensorboard --logdir experiments/runs"
      ],
      "metadata": {
        "id": "-45Y4BsqAEY9"
      },
      "execution_count": null,
      "outputs": []
    },
    {
      "cell_type": "code",
      "execution_count": null,
      "metadata": {
        "id": "gIoe9TqOof-V"
      },
      "outputs": [],
      "source": [
        "\n",
        "\n",
        "training_arguments = TrainingArguments(\n",
        "    per_device_train_batch_size=4,\n",
        "    gradient_accumulation_steps=4,\n",
        "    #optim=\"paged_adamw_32bit\",\n",
        "    logging_steps=1,\n",
        "    learning_rate=1e-4,\n",
        "\n",
        "    max_grad_norm=0.3,\n",
        "    num_train_epochs=5,\n",
        "    evaluation_strategy=\"steps\",\n",
        "    eval_steps=0.2,\n",
        "    warmup_ratio=0.05,\n",
        "    save_strategy=\"epoch\",\n",
        "    group_by_length=True,\n",
        "    output_dir=OUTPUT_DIR,\n",
        "    report_to=\"tensorboard\",\n",
        "    save_safetensors=True,\n",
        "    lr_scheduler_type=\"cosine\",\n",
        "    seed=42,\n",
        ")"
      ]
    },
    {
      "cell_type": "code",
      "source": [
        "t=dataset[\"train\"].select(range(2))\n",
        "t"
      ],
      "metadata": {
        "colab": {
          "base_uri": "https://localhost:8080/"
        },
        "id": "Y7vrYWQhuUiK",
        "outputId": "2e5e5fea-7b8a-420c-9604-a50c0e35d8ba"
      },
      "execution_count": null,
      "outputs": [
        {
          "output_type": "execute_result",
          "data": {
            "text/plain": [
              "Dataset({\n",
              "    features: ['conversation', 'summary', 'text'],\n",
              "    num_rows: 2\n",
              "})"
            ]
          },
          "metadata": {},
          "execution_count": 23
        }
      ]
    },
    {
      "cell_type": "code",
      "execution_count": null,
      "metadata": {
        "id": "ZL4Qa_cypL1f"
      },
      "outputs": [],
      "source": [
        "trainer = SFTTrainer(\n",
        "    model=model,\n",
        "    train_dataset=dataset[\"train\"].select(range(2)),\n",
        "    eval_dataset=dataset[\"validation\"].select(range(2)),\n",
        "    peft_config=peft_config,\n",
        "    dataset_text_field=\"text\",\n",
        "    max_seq_length=4096,\n",
        "    tokenizer=tokenizer,\n",
        "    args=training_arguments,\n",
        ")"
      ]
    },
    {
      "cell_type": "code",
      "source": [
        "dataset[\"validation\"][\"text\"]"
      ],
      "metadata": {
        "colab": {
          "base_uri": "https://localhost:8080/"
        },
        "id": "NpOeOZwhzH7t",
        "outputId": "d106ffbc-6bd1-4e51-f78b-d5e355ce184b"
      },
      "execution_count": null,
      "outputs": [
        {
          "output_type": "execute_result",
          "data": {
            "text/plain": [
              "['### Instruction: Below is a conversation between a human and an AI agent. Write a summary of the conversation.\\n\\n### Input:\\nuser: Is it normal for my Xbox One X to be making pretty loud fan noises? Even while the console is off? It seems to be louder than my original One.\\nagent: Hiya! Just to clarify, does your console have plenty of room for ventilation: Also, is your console plugged directly into a wall outlet?\\nuser: Yes it does have plenty of ventilation, and no it is not directly to the wall outlet. I have it connected to a surge protector.\\nagent: Thanks for this info, a direct wall outlet connection would be recommended: If you 1  plug the console directly into the wall outlet &amp; test for a bit, do you hear this noise? 2\\nuser: It seems to have stopped that noise, thank you! Also does having it connected to a surge protector mess up the console in any way? Because that noise was worrying me\\nagent: We could not speculate on this, but a surge protector is not recommended since the power supply has built-in protection.\\n\\n### Response:\\nCustomer is seeking help to console the loud noise of Xbox One X which is connected to surge protector and it does not have plenty of ventilation. Agent provided the URL for direct wall outlet connection and informed that since the power supply has built in protection, surge protector is not recommended.',\n",
              " \"### Instruction: Below is a conversation between a human and an AI agent. Write a summary of the conversation.\\n\\n### Input:\\nuser: Disgusted at high numbers of people without kids using parent &amp; child spaces at Crayford. It needs better oversight please.\\nagent: ... on the honesty and integrity of our customers. Thanks, Karen 2/2\\nuser: Not quite true. The car park is meant to be patrolled with charges for those abusing the system. Never seen it patrolled, when is this done?\\nagent: I'm afraid the store is now closed, but I've emailed your feedback on to the Store Manager to be reviewed. Thanks, Naomi.\\nuser: Grateful if you could let me know the outcome of the store manager's review of my feedback. Thanks.\\nagent: Hi there, unfortunately we can't give out any updates on these matters. However I can have the Store Manager give you a ... 1/2 ... call to discuss this further if you'd like? Robbie 2/2\\nuser: I guess that means my feedback was filed in the bin. I'd like a written response please.\\nagent: Hi there, I would like to assure you that we take all customer feedback seriously and it will not go unnoticed. Chris.\\nuser: That's good to hear. So when will I get a written response? Thanks very much!\\nagent: I'm afraid this isn't something that we'd get a written response out for. The car park is owned by horizon and is monitored by CCTV by...1/3 ...them, however during busy periods we have parking wardens that patrol this area. We have logged your feedback for...2/3 ...us to try monitor this more closely. Take care. Aisha 3/3\\n\\n### Response:\\nCustomer complains about people acquiring  the wrong place in sainburys . Agent emailed the feedback of customer to related department for review.\",\n",
              " \"### Instruction: Below is a conversation between a human and an AI agent. Write a summary of the conversation.\\n\\n### Input:\\nuser: My subscription expired and it won't allow me to change my card number. And the system says my email address doesn't exist... Now I can't pay online nor in the Xbox store. I also bought 3 different codes from Walmart and they didn't work. #HELPNEEDED\\nagent: We are not equipped to handle account/billing issues here on Twitter, for security reasons. In this case, let's have 1  you reach out to the live chat team in your region: for more help with your account! 2\\nuser: I’d rather talk to someone over the phone if possible. Is there a number I could call and preferred time\\nagent: The link we sent will also have an option for the phone if available at that time and in that region.\\nuser: Yes I am aware. But in order to get the number I have to sign in. Which for some reason I can not. This is my only method of communication\\nagent: You should not need to sign in to get to the phone portion of the site. But, if 1  you can tell us what country you are in we can provide a direct link to your region. 2\\nuser: United States\\nagent: Here you go: We wish you the best with that, let us know if we can assist with anything else.\\nuser: Thank you\\nagent: You are welcome!\\n\\n### Response:\\nCustomer is saying that due to expired subscription it is not able to change card number and unable to play online. Agent updated that it is not equipped to handle account/billing issue and given URL for further assistance.\",\n",
              " '### Instruction: Below is a conversation between a human and an AI agent. Write a summary of the conversation.\\n\\n### Input:\\nuser: Hey just tried to by tickets through your app &amp; in the 10 seconds from selecting them to paying they became \"unavailable\". Reset the app &amp; now they\\'ve gone up! Really disappointed. Tempted to go with Chiltern. Don\\'t supposed you want to offer them at old price?\\nagent: Were these Advance tickets? If so they are subject to availability and may have been booked by someone else. Therefore we cannot offer them at the other price.\\nuser: They were advance tickets, yes, but surely you shouldn\\'t make a product available at a price let peope go through the process and then increase the price. Other ticketing sites guarantee the ticket is yours, subject to payment, as soon as you select it\\nagent: I\\'m afraid these can be booked by someone up until the booking page\\nuser: I was on the booking page. I\\'d put my card details in and then it rejected it because you\\'d sold them to someone else.\\nagent: Do you have a screenshot of this, Chris?\\nuser: Sadly not as I then had to go out of the app and back in. That\\'s when the price increased. Don\\'t worry, it\\'s not just you. have just done the same 🤦🏻\\u200d♂️\\nagent: The Aftersales team may be able to advise further via Websupport LiveChat\\nuser: Just done that. They aren\\'t allowed to help re tickets sales and have told me to call the sales team...\\nagent: They would be best to advise\\n\\n### Response:\\nThe customer says he tried booking a ticket but while making the payment it was not confirmed and shows a higher price and he doubts it might be sold out to other people. The agent says aftersale team may be able to advise further via LiveChat to resolve the issue.',\n",
              " \"### Instruction: Below is a conversation between a human and an AI agent. Write a summary of the conversation.\\n\\n### Input:\\nuser: Who else is having same issues w-T-Mobile? I recd about dz dm with similar stories, I really am sorry u r dealing w-tech issues &amp; cust service. I believe u Cuz of this #exhausted #lies #runaround\\nagent: I would love to help you out today. Shoot me a DM. I'm here for you! :) *JawedK\\nuser: Is this a computerized response &amp; not a actual person? I mean seriously.\\nagent: I am definitely an actually person. I am definitely willing to help you :) Please shoot me a DM #GotYourBack *JawedK\\nuser: #readDM #been there done that 4 hours. #17 years still #NORESPECT\\nagent: Hey, thank you so much for sending a DM. I do apologize we've not received it. Please try again #AppreciateYou *JawedK\\nuser: So this is just a joke, well I am glad u were entertained. #rude. #not listening #lies\\nagent: No jokes! However,if you need a song and dance we got you virtually! Please just send us a DM so that we can sure you know that we appreciate your loyalty. The last conversation we have that you sent a DM was yesterday, but nothing today. *CherneilRandolph\\n\\n### Response:\\nCustomer having an issue with w-T-mobile. Agent updated that to sent DM.\",\n",
              " '### Instruction: Below is a conversation between a human and an AI agent. Write a summary of the conversation.\\n\\n### Input:\\nuser: hey, any explanation why the \"Create similar playlist\" function doesn\\'t work anymore for me? MacBook, v1.0.64.399.g4637b02a.\\nagent: Hi there, the cavalry\\'s here! Does logging out, restarting your device, and logging back into Spotify help? Keep us in the loop /JI\\nuser: no, it didn\\'t :( tried everything but I still can\\'t create the playlist. it\\'s not even greyed out but nothing happens after clicking on it.\\nagent: Okay. Can we have you try reinstalling the app? To do so, just follow the steps at\\nuser: i tried and it\\'s still the same... moreover, my song history is always empty, so I can\\'t find songs from previous Discover playlists :(\\nagent: Does restarting your computer help at all? Also, is the song history you\\'re referring to the History tab on your Play Queue? /MT\\nuser: no, I tried that as well and just reinstalled again - didn\\'t help. yes, that\\'s what I mean.\\nagent: Could you DM us your account\\'s email address or username? We\\'ll take a look backstage /MT\\n\\n### Response:\\nCustomer is complaining about unable to create similar playlist so that  function does not  work anymore. Agent says could DM the account\\'s email address or username so that they look backstage.',\n",
              " \"### Instruction: Below is a conversation between a human and an AI agent. Write a summary of the conversation.\\n\\n### Input:\\nuser: Fault cause they system down fuck . Y’all waisted a hour of my life. To give me a $20 credit on a $150 bI’ll for one line 🖕🏽🖕🏽\\nagent: Hello, we can't imagine how frustrating this has been for you, we are truly sorry about that. Did this happen this morning?\\nuser: Yes\\nagent: We are looking into the system issue right now. My supervisor just confirmed that we are having issues with our system at this time. I want to help you here. May I call you when the system is back up?\\nuser: Sure 202-867-0033\\nagent: Thank you.\\nuser: Y’all system still down I just want to use my 8 😫😫\\nagent: I'm going to check with my supervisor. Hold on.\\n\\n### Response:\\nCustomer is complaining about his  system is down. Agent is updated that he is looking into the system right now and his supervisor just confirmed that they are having issue with his system at this time.\",\n",
              " \"### Instruction: Below is a conversation between a human and an AI agent. Write a summary of the conversation.\\n\\n### Input:\\nuser: After upgrading iPhone7 to iOS 11 and then connecting it to my car navigator with USB, the song list is no longer displayed.\\nagent: We're glad to help! First, have you restarted your iPhone since noticing this? Here's a guide:\\nuser: I connected it after restarting my iPhone twice, but it did not get better. My lightning cable is new one. On iOS 10.3 my iPhone could connect to car navigation without problems. Obviously it is a problem of iOS 11.\\nagent: Got it, thanks!. Let us know if the steps in the guide help. Also, what's the iOS version number in Settings &gt; General &gt; About?\\nuser: My iPhone works on iOS 11.1\\nagent: We're happy to hear that! Let us know if you need any help in the future.\\nuser: Similar problems were found on twitter and many others. I hope you will improve this problem on iOS 11.2.\\nagent: We still want to help you. DM us, and we'll continue there.\\n\\n### Response:\\nCustomer is complaining that the song list is no longer displaying  after upgrading iPhone 7 to iOS 11 and then connecting to car navigator with USB. Agent updated that to send the iOS version number in setting and informed the customer to DM , So that they will work on it.\",\n",
              " \"### Instruction: Below is a conversation between a human and an AI agent. Write a summary of the conversation.\\n\\n### Input:\\nuser: Hey it would be nice if when I minimized Creative Cloud upon opening the app, it stayed minimized #ProductFeedback\\nagent: Hi Joe, Did you try clicking the 3 dots by your profile pic in the CC desktop app &amp; select Pin to menu bar? That should help you.\\nuser: Please provide a screenshot\\nagent: Hi Joe, I attached a screen shot of my CC desktop app to show you where the Pin to menu bar is located.\\nuser: Thank You :) Did not work - please view this screenshot to see how Photoshop is hijacking my cmputer during app launch process\\nagent: Joe, are you using a dual monitor display? Have you tired resetting the Photoshop preferences to see if it helps?\\nuser: Have you tried to recreate the experience?\\nagent: Hi Joe, we're looping in an expert who can help you out here. They will reply as soon as they're available.\\nuser: Thank You\\nagent: Hi Joe, Its a known issue and logged as a bug. Our team working on this issue to get it fix asap, refer:\\n\\n### Response:\\nCustomer is asking about it would be nice if when minimized creative cloud upon opening the app,stayed minimized product feedback. Agent says the team is working on this issue to get it fix asap,refer:URL.\",\n",
              " \"### Instruction: Below is a conversation between a human and an AI agent. Write a summary of the conversation.\\n\\n### Input:\\nuser: No option to set wifi hotspot timeout in iOS ,which iam looking from 2months ,\\nagent: We'd be happy to point you in the right direction. Please DM us your Apple device and we'll go from there.\\nuser: I did not understood what do you mean by DM my iPhone\\nagent: We'd like to continue with you via DM. Send us a DM and let us know which device you're using:\\nuser: iPhone 6s 32 GB model with iOS 11.0.3 what else you need,, Difficult to organise the photos by app wise like WhatsApp and Facebook etc,,, Why can’t be an always on display with date time in iPhone Most of the apps in App Store are us less they sshould moly consume your mobile data and as well as battery with no use In fact apps applications developed by Apple for the iPhone users ar very less\\nagent: Are you able to send a DM using Twitter's website? If not, connect with us via phone or chat here:\\n\\n### Response:\\nCustomer is complaining about the issues with iPhone Multiple contacts deletion, by app basis photo organiser, wifi hotspot timeout. Agent updated to DM the Apple device through URL.\",\n",
              " \"### Instruction: Below is a conversation between a human and an AI agent. Write a summary of the conversation.\\n\\n### Input:\\nuser: The power indicator for Sony 4 does not appear What's the solution?????? ?\\nagent: Here to help! Please provide us more details about the issue that you are having in order to better assist you.\\nuser: When I press power button no work but when I press eject power appear sound like whistle (I mean eject power it's work )\\nagent: Sorry to know that. Please follow the steps in the next link:\\nuser: Does this indicate a problem in power supply?????? ?\\nagent: Make sure it is properly connected. Press the power button for 30 sec and check if it loads to Safe Mode.\\nuser: How can I fix motherboard for PS ??? ?\\nagent: Hi there! Check out the next article on how to get service and repair:\\n\\n### Response:\\nCustomer is complaining about not appearing power indicator. Agent states to press the power button for 30 second so that it loads to safe mode.\",\n",
              " \"### Instruction: Below is a conversation between a human and an AI agent. Write a summary of the conversation.\\n\\n### Input:\\nuser: how can you let your staff promote another airline they know nothing about? please train VX staff so they don’t look like idiots to those who have flown VX for years...and fix the aircraft seats, etc... #disappointedguest #ImDone\\nagent: I am sorry we doing our best to understand each product. Can you tell me what happened so I can share and hope this doesn't happen again.\\nuser: essentially service in 1st has steadily declined in the past six months. ex: seats don’t recline, when they do, often need reset to sit up, inoperable inflight ent. system (2 fly’s), no knowledge by phone personnel re: meal service on red eye flight, general service declined it’s a huge disappointment for someone like me who flies VX frequently. I am elevate gold member with 75K in miles. I refuse to spend another penny on VX because of the decline. How does plan on retaining loyal VX guests with the decline in service?\\nagent: I'm very sorry about this. I will share your feedback with our leadership team. -Maeghan\\nuser: sorry doesn’t cut it anymore. I hear lots of “sorry” onboard and i the phone - and not a lot of solution. it continues to get worse each flight. i’d be embarrassed to treat guests in 1st this way. #VXisntgreatanymore #ImDone additionally the VX inflight team doesn’t enforce the lavatory rules in 1st. flying VX used to be such a great experience - now it’s nothing more than a city bus. Ugh! #whathappenedtoVX #deathofanairline\\nagent: I will share this feedback with our leadership team. -Maeghan\\n\\n### Response:\\nCustomer complains about the embarrassement faced and very disappointed with the staff. Agent updated to share this feedback with their leadership team.\",\n",
              " \"### Instruction: Below is a conversation between a human and an AI agent. Write a summary of the conversation.\\n\\n### Input:\\nuser: Sainsbury’s lemon and raisin pancakes, with one lonely raisin! Why?\\nagent: Sorry John! Can you give us the barcode and confirm the store you got these from please? Danny\\nuser: Very sorry I threw away the packaging. Purchased from Sainsbury’s, liphook in Hampshire. Kindest Regards, John Hall\\nagent: Thank you, can you confirm the right product here please -\\nuser: \\nagent: Thank you, if you DM me your Nectar card number via this link I can get a refund added for you and make sure this is fed back. Robbie\\nuser: Liphook store, nectar is\\nagent: Thanks, I fed this back for review. I also added 140 points (70p) to your Nectar card, they'll clear for use in 72 hours...1/2 ...Hope you have a great weekend. Maclaine 2/2\\n\\n### Response:\\nCustomer is complaining that the Sainsbury's lemon and raisin pancakes had only 1 raisin. Agent is requesting for the store information and states that they have added 140 points to the nectar card.\",\n",
              " \"### Instruction: Below is a conversation between a human and an AI agent. Write a summary of the conversation.\\n\\n### Input:\\nuser: I was just charged $1 for no reason please get back to me this is not right\\nagent: Hi there! That's a standard hold used to verify your payment method. The funds never actually leave your account, and the charge is voided.\\nuser: They where just deducted from my account I got a notification from my bank\\nagent: Thank you for providing the info. We are looking into your account right now.\\nuser: I haven’t provided my info?\\nagent: We had your info on file. A member of our team will be in contact with you shortly via email or in-app support.\\nuser: I just got another charge for an order I placed but I had $40 of credit on my account\\nagent: Sorry for the trouble! Please make sure your credits are selected. You can toggle on/off your credits under the Payments tab &gt; Apply Credits\\n\\n### Response:\\nCustomer is complaining about charged 1$ for no reason and informed to return back. Agent updated that they team will contact shortly via email and informed that make sure credits are selected.\",\n",
              " '### Instruction: Below is a conversation between a human and an AI agent. Write a summary of the conversation.\\n\\n### Input:\\nuser: why following the initial recent update does the WiFi keep turning itself on, even after expressly turning it off #iphone6s\\nagent: We can help. Are you turning off Wi-Fi in the Control Center?\\nuser: Turning off in control centre, then after do not disturb active in car then deactivated when disconnected the WiFi is back same with APM ✈️\\nagent: Okay. That is expected in iOS 11. Check this link for details about that feature:\\nuser: Thanks but this feature defeats the object of turning it off. I don’t need or want the phone looking for a WiFi service when I’ve turned off\\nagent: Understood. You do have the option of turning Wi-Fi off in Settings &gt; Wi-Fi. This will disable until you turn it back on.\\nuser: Ruins the whole object of control centre though doesn’t it! Kind of pointless 😱\\nagent: We welcome all feedback on our products and services here:\\n\\n### Response:\\nCustomer complaining about WiFi keep turning itself on even after turning it off. Agent suggest that  go to  setting  and disable the WiFi until he turn it back on.',\n",
              " '### Instruction: Below is a conversation between a human and an AI agent. Write a summary of the conversation.\\n\\n### Input:\\nuser: hello my call of duty is not working\\nagent: Hi there! Can you please clarify what game and platform you are having issues with? Are you receiving any error messages?\\nuser: Call of duty black ops 2\\nagent: What exactly is happening? Are you receiving any error messages? What platform are you on?\\nuser: I will spawn in and it takes me to the loading screen there is no error xbox one\\nagent: Can you please clarify what happens when you load in? What is your gamertag?\\nuser: It loads i spawn in it loads again till the game stops crazycowgta5\\nagent: Please reach out to me at this link for further assistance. Thank you.\\n\\n### Response:\\nCustomer is facing a trouble while loading call of duty game. Agent updated the customer to reach out through the given link for further assistance.',\n",
              " \"### Instruction: Below is a conversation between a human and an AI agent. Write a summary of the conversation.\\n\\n### Input:\\nuser: Come on fix your connection with Carphone Warehouse so my upgrade can actually go through before I go on holiday. I've been trying to do this for days\\nagent: 🤔 We'd like to help Claire, are you trying to upgrade through Carphone Warehouse? If so, you'd need to discuss any issues further with them. What's happened exactly?\\nuser: I called them today and on Saturday and they say that no O2 upgrades are going through - apparently an issue on your side. Only new contract sales are currently possible. Is this true?\\nagent: 🤔 We're not currently aware of any issues, Claire. Why not upgrade through us directly? Have you spoken to the upgrades team directly to discuss your options? You can reach them here: They'd be more than happy to help 👍\\nuser: The offer they had online was a better offer than your upgrade section had. I'm currently losing my voice so just wanted to order online and not have to speak to someone on my basically broken phone which is what I'm trying to replace\\nagent: Ah okay, when's the last time you tried upgrading?\\nuser: I had a look at the options on the site for the phone I wanted less than a week ago\\nagent: Okay, are you still having the same issues? What's the latest you've been advised by Carphone Warehouse?\\nuser: I haven't heard anything further from them. Never got a call back and there is only so much time you can waste on hold\\nagent: We'd suggest getting back in touch with Carphone Warehouse Claire. We're sorry for the inconvenience.\\n\\n### Response:\\nCustomer is having an issue with the connection Carphone warehouse and for upgradtion. Agent update that to contact upgrades team for options.\",\n",
              " '### Instruction: Below is a conversation between a human and an AI agent. Write a summary of the conversation.\\n\\n### Input:\\nuser: Did a recharge of 346 RS after browsing the plan from the list. Now Denying there is no plan. WTF is this?\\nagent: Sorry for trouble. We have noted your concern and will get in touch with you soon. Regards, Vicky\\nuser: Please provide the timeline.\\nagent: We will get in touch by today with you for further assistance. Regards, Vicky Please let us know convenient time to reach you as we were unable to get through on given contact nos. Rgds Neha\\nuser: Please reach out on 9558337630. In case +917046125882 is not reachable. After 11:00 AM in the morning is fine.\\nagent: Thank you for sharing your contact details. We will get in touch with you soon. Rgds, Amit As per our telecon, your issue has been initiated under SR# :1-148450331275 &amp; expected completion date is 3/11/2017. Heetali\\n\\n### Response:\\nCustomer enquires about recharge done but plan not available. Agent informs that they will get back soon on given contact details as issue has been register.',\n",
              " '### Instruction: Below is a conversation between a human and an AI agent. Write a summary of the conversation.\\n\\n### Input:\\nuser: hi. message on bottom right of screen says firewall is turned off. computer says it\\'s on windows firewall is off as normal.. windows defender is also off the message on bottom right came from norton\\nagent: Sorry for the trouble. Could you please share a screenshot of the same? We can look into it. -Steffi (cc:\\nuser: is windows defender supposed to switched off as well\\nagent: We would suggest you have one antivirus protection on your device. so that it doesn\\'t conflict each other. -Steffi (cc:\\nuser: not sure if you can see it clearly.. norton says it is currently on, windows wall and defender off\\nagent: Hi, Norton Firewall is enabled to secure your ports due to which Windows Firewall is turned off in order to avoid the conflicts. -Karthik Hi, just a follow-up.Let us know if you need further assistance -Anirban\\nuser: it;s happened again 2 minutes ago.. this time it\\'s saying spyware switched off.. last time it said firewall been turned off spyware is on. windows firewall off, defender off.. norton on\\nagent: Sorry about that! Please run live update in Norton Security until \"No updates\" and restart your computer.Let us know if that helps.-Charlie Hi, we hope everything\\'s fine. Please let us know if you still have any issues with Norton. -Steffi\\n\\n### Response:\\nCustomer is having an issue with message on bottom right of screen  says firewall is turn off. Agent update that to send the screen shot and also inform that to run live update in Norton security until NO updates and restart the computer.',\n",
              " '### Instruction: Below is a conversation between a human and an AI agent. Write a summary of the conversation.\\n\\n### Input:\\nuser: got an advance ticket for 13:23 to Coventry from Euston. Might miss as been delayed on other trains, can I get train after\\nagent: Are you travelling with a ticket that includes a connection at Coventry, or is this a single fare?\\nuser: I finish at Coventry\\nagent: Are you travelling with a single fare from Euston to Coventry, or is this a connection?\\nuser: Hi this is a connection. I started my journey in maidstone and ticket is maidstone to Coventry\\nagent: Be sure to speak with station staff when you arrive in to London as they can endorse the fare to travel on a later train\\nuser: Could I ask which staff this is. E.g. Virgin staff or staff of company I was delayed on.\\nagent: I would speak to both to ensure they can endorse and advise further\\n\\n### Response:\\nThe customer is saying  that he might miss the train due to delay. The agent told them that they will speak to both to ensure they can endrose and advise further.',\n",
              " \"### Instruction: Below is a conversation between a human and an AI agent. Write a summary of the conversation.\\n\\n### Input:\\nuser: Why do Mini Bites tubs only warn about Peanuts if u read the French or Dutch? #peanutallergy #badlabelling\\nagent: Hi Laura, we do have the warning in the blue box for our UK tubs.\\nuser: That just says Nuts. Peanuts are different. Why be more specific in other languages? This is life or death for sufferers. Do other companies list different allergies in other languages? Are the labelling rules that vague?\\nagent: We've just looked into this for you, Laura. Customer contacts have shown an increase in questions about whether nut labeling includes 1/4 both nuts and peanuts. As a result, we’re changing our nut alibi labelling to make it clearer for our customers. The allergy information on the back of the packaging will now separate nut and peanut allergies. We’re making these changes gradually but customers may 3/4 start to notice the change over the next few weeks. We hope this helps. 4/4\\n\\n### Response:\\nCustomer enquire about mini Bites tubs labelling warns about peanuts if he reads French or Dutch. Agent informs customer that they are making changes gradually which they can start noticing  over the next few weeks.\",\n",
              " \"### Instruction: Below is a conversation between a human and an AI agent. Write a summary of the conversation.\\n\\n### Input:\\nuser: Have to stop using Tigo Ghana for my Internet surfing. Shit makes my internet damn slow. The most annoying part...\\nagent: Hello Shayc, kindly share with us your location and data signal you often receive for further checks on it for you.\\nuser: Kumasi, in the vicinity of Manhyia Palace\\nagent: What data signal do you mostly receive on your phone?\\nuser: It's H+ with a full bar signal but funny thing is, it reduces to the lowest and up in that order. It makes my internet surfing very miserable one 😔\\nagent: Too bad! What type of phone do you use?\\nuser: Infinix Hot 4 😔\\nagent: For how long have you had this challenge?\\nuser: It's been happening for Lord knows when...can't recall 😔\\nagent: Please DM your number and the APN you have under mobile network settings.\\n\\n### Response:\\nThe customer is complaining that his internet surfing was too slow. The agent asked the customer to dm his number and the apn he has under the mobile network settings.\",\n",
              " \"### Instruction: Below is a conversation between a human and an AI agent. Write a summary of the conversation.\\n\\n### Input:\\nuser: Okay for some reason Spotify won't let me listen to the album. Really #meaningoflife\\nagent: Hey! Help's here. What device, operating system, and Spotify version are you rocking? We'll see what we can suggest /RA\\nuser: I'm using a Chromebook. For some reason, this is what I keep getting when I try to start the album.\\nagent: Got it! Could you try restarting your computer? Let us know how it goes /RA\\nuser: I tried and it didn't work. I even tried logging out of my account and back in and that still didn't work.\\nagent: Hmm, that's odd. Could you try logging in using a different device and let us know if you're able to play the album? /RA\\nuser: I'm able to play it on my kindle fire with one problem. *no\\nagent: Can you DM us your account's email address? We'll take a look backstage /RA\\n\\n### Response:\\nCustomer is complaining that he is unable to listen to a particular album on Spotify app even after logging in again. Agent suggests to try by restarting the device and by using a different device.\",\n",
              " \"### Instruction: Below is a conversation between a human and an AI agent. Write a summary of the conversation.\\n\\n### Input:\\nuser: do not book with this company. Absolutely the worst! Deleting the app and telling all my friends to dump them. Horrible!\\nagent: That isn’t what we like to hear! Email __email__ so we can learn more\\nuser: I called 6 times already and you all did nothing. Beyond dispointed. Im going to email and nothing is going to get resolved.\\nagent: Oh no – DM us the reservation's Booking ID and we'll be happy to look into this If you'd like to DM or shoot us over an email to __email__ we’re happy to discuss further\\nuser: I sent a dm and email and no reponse.\\nagent: Thanks for your patience while we looked into this. Sometimes 140 characters isn't enough! We followed up via email\\n\\n### Response:\\nCustomer complaining about hoteltonightcx because they are not responded properly for his booking. Agent suggests to dm his reservation booking id and he will be look into that.\",\n",
              " '### Instruction: Below is a conversation between a human and an AI agent. Write a summary of the conversation.\\n\\n### Input:\\nuser: hey folks i keep getting this nonsensical error message while trying to book a hotel in tel aviv w/ my rewards points. none of the two alternatives, including the identical one to my entry, work either. bug or no hotels available?\\nagent: I\\'m sorry to hear this. Can you please clear the cache and cookies on your web browser?\\nuser: Already tried that :) But tried again and got same message.\\nagent: Thank you for this information. Please try a different web browser or you can call our Travel Team at 1-866-951-6592 for immediate assistance.\\nuser: Doesn\\'t work in Safari or Chrome. I\\'m in Australia so would rather not rack up long distance charges to find out what\\'s available. Will just book directly.\\nagent: You can also call us internationally at 1-302-594-8200. If you work with an international operator to dial collect, we will accept the charges. In most countries, the best way to reach an international operator is to use a landline and dial \"0.”\\nuser: I appreciate that that\\'s an option but I want an easy way to look at all the inventory in an unfamiliar city, and doing that over the phone seems like a huge pain in the butt. Gonna use cash/other points instead.\\nagent: Thank you for providing this information. Feel free to reach out to us again if you have any additional questions.\\n\\n### Response:\\nCustomer is complaining for not being able to book an hotel using reward points. Agent suggests to use a different web browser and requests to contact over a phone call for immediate assistance.',\n",
              " \"### Instruction: Below is a conversation between a human and an AI agent. Write a summary of the conversation.\\n\\n### Input:\\nuser: 6 year customer. About to end. Why do you not have fox sports 2? Can’t even watch supercross and I pay you 200$ a month? Bye.\\nagent: We constantly evaluate content availability for our customers. We can pass along your feedback and note your interest.-AC\\nuser: No you constantly throttle. Stop lying. The 6 years I was with you was worse than an ex.\\nagent: I recognize your frustration and if you have any other questions and/or concerns please let us know. -AB\\nuser: Lol have I not let you kno? Whoever the fuck AB is has a job? That’s crazy\\nagent: Please send us a DM with your account information and we'd be happy to address your concerns. -EG\\nuser: No thanks. Your customer service is a joke. And trust me. 6k people are about to know how you treat your true subs. I pay you 200$ a month for you to fuck me? Nah.\\nagent: I'm sorry you feel this way. If you change your mind please don't hesitate to reach out. We are available 24/7 for assistance. -EG\\nuser: Call me now then. If you really care.\\nagent: We primarily deal with issues on social media through messaging for record keeping purposes. We are able to address any concerns via DM. -EG\\nuser: Great strategy. Keep in mind I’m a YouTuber that streams every day. Viewers literally watch you throttle my internet\\nagent: We will never throttle your internet. Please let us know if you'd like further assistance with this or any other issue. -EG\\n\\n### Response:\\nThe customer asks why fox sports 2 is not available and says he cant even watch supercross even after paying $200 a month. The agent says he will pass along the feedback and asks to DM account information to assist further on the issue.\",\n",
              " '### Instruction: Below is a conversation between a human and an AI agent. Write a summary of the conversation.\\n\\n### Input:\\nuser: Telp ke call center malah disarankan pesan lewat call center ajah next nya.. WHAT??!! Apagunanya you punya web\\nagent: Hi Ana, kindly tweet us in English or you may also contact the Call Centre for further assistance- Mariya\\nuser: When i buy tiket at Web when i made payment the price increase, it didnt state in the payment page that there will be add cosr Then i call your call center they said it probably bank charge fee, but why is it so high?!! Its like 10% add to my ticket price! ! The call center suggest me to buy trough them not wwb so there will no add charge!! So what the use of your website? I try to book the same flight with traveloka and in the last payment their price is cheaper!!! Because they do not charge us add cost! !\\nagent: Hi Ana, Processing Fees are actually chargeable for payments made via Credit/Debit cards or even Direct Debit. Thanks. -Floi Hi, prices can change in between you check the availability as system works on real-time,kindly clear cache,try again.Thanks-Mich Hi Ana, may refer to for processing fee list. Thanks-Mich Hi Ana, kindly refer to processing fee list. Thanks-Mich Dear Ana, this is subject to travel agent, kindly refer to avoid processing fee charge. Thanks-Mich\\nuser: Understand.. And did not mind it, but is it almost 10% of my ticket price??!! As far i know its about 3% from my total transaction I have check my invoice.. The price did not change, just you add processing fee, that i think it ridiculously high..\\nagent: Hi Ana,processing fee will be charge accordingly to bank, to avoid kindly apply payments made through BIG Visa card.Thanks-Mich\\n\\n### Response:\\nCustomer is complaining about paying higher bank processing fee. Agent states that the processing fee will be charged accordingly to bank.',\n",
              " '### Instruction: Below is a conversation between a human and an AI agent. Write a summary of the conversation.\\n\\n### Input:\\nuser: Can\\'t create an account. Firefox, Chrome, iPhone: \"oops something went wrong\". I give up.\\nagent: Hey Brandon! Can you try clearing your browser\\'s cache/cookies? See if that helps /RH\\nuser: Chrome reset to defaults gets an endless spinner. So does an Incognito window.\\nagent: Alright. What country are you in? Have you also tried using a different device? That might do the trick /RH\\nuser: USA. The iPhone app says \"an unknown error has occurred.\" I also tried switching phone and laptop from wifi to a phone network. No change\\nagent: Could you send us a screenshot of the error message you\\'re getting? We\\'ll take a look /RH\\nuser: On Firefox, it\\'s simply the signup form with a spinner in the center. The browser console looks like this:\\nagent: Thanks for the screenshots. Could you also DM us the email address that you\\'re trying to use? Let\\'s carry on chatting there /RH\\n\\n### Response:\\nCustomer is complaining about unable to create an account using different browsers. Agent informed the customer to send the screenshot of the error and also request to send the  email address for further assist.',\n",
              " '### Instruction: Below is a conversation between a human and an AI agent. Write a summary of the conversation.\\n\\n### Input:\\nuser: any reason why your app is \"unavailable\" in Spain?\\nagent: Hi there! Can you tell us where in Spain you\\'re located? We\\'ll see what we can suggest /NH\\nuser: I\\'m in Madrid\\nagent: Thanks! Do you have a VPN enabled? If so, try disabling it to see if it helps. Let us know how it goes /NH\\nuser: Nope! No VPN\\nagent: Got it. Can you let us know what country your Google Account is set to? Also, is this the first time you\\'re downloading the app? /NH\\nuser: Looks like account country is set to Serbia. I\\'ll see if I can change it right now Changed it and it works now. Thanks!\\nagent: No worries! We\\'re glad we could help out. If you ever need anything else, just shout and we\\'ll come running 🏃 /DF\\n\\n### Response:\\nCustomer is enquiring about the app which is not available in Spain. Agent ask to change the account by selecting serbia country and also states that they can get help at anytime.',\n",
              " \"### Instruction: Below is a conversation between a human and an AI agent. Write a summary of the conversation.\\n\\n### Input:\\nuser: If you really wanna know how to pack a 7 day bag - Let lose your bag for a month and have to buy on a strict travel budget. Only for you to hope they reimburse your receipts Work clothes for a month - I freelance.. that is basically any and everything any day of the week.\\nagent: ...at (800) 325 8224. Thank you for your time and patience. *HFG 2/2 I am very sorry for the loss of your bag. Have you filled a claim and followed up with our baggage team? Please call our baggage team... 1/2\\nuser: It's been a month.. you seriously think I haven't reached out through the proper channels? Too bad automated responses don't come.. With contextual awareness or common sense.\\nagent: ...proper channels were followed as we have no way of knowing if you did or not without asking. *ABN 2/2 We don't use canned or automated responses, Brittany. Our apologies for coming across as robotic or automated. We have to ensure the... 1/2\\n\\n### Response:\\nCustomer  loss his delta bag and hope they reimburse receipts. Agent says we don't use canned or automated responses.\",\n",
              " '### Instruction: Below is a conversation between a human and an AI agent. Write a summary of the conversation.\\n\\n### Input:\\nuser: #sprint worse service in America. Never get sprint ever ever ever\\nagent: Can I please have your nearest ZIP code an cross street? I would like to help. - IR\\nuser: 89121, Laguna Shores Lane\\nagent: Hey Tony. It is very unfortunate and difficult to deal with poor service connection, we will work with you to resolve your issue. Continue to bear with us while we check your data coverage. Thank you. -CA\\nuser: Ya I’ve been telling you guys about how bad my service is and you guys don’t care. 6+ months. Your customer service is shit. Worse company I’ve ever dealt with. I’ll hold my breath.\\nagent: We do apologize for any inconvenience caused in the past. -CA We have check your coverage issues and there are no issues within your area. Please send us a Direct Message, so that we can further assist you. -CA\\nuser: Sounds exactly like what I thought you’d guys say\\nagent: Please provide the make and model of your device. Thank you. -CA\\nuser: iPhone 7+, it’s not the make model or device. This is my second device, my wife’s second device and same results on all. Your service sucks, smack dab in the middle of the city.\\nagent: Here are some troubleshooting steps to further assist. 1.Verify mobile data is enabled.1.From the Home screen, tap Settings. 2.Tap Cellular. Perform a soft reset. A soft reset restarts the phone and does not erase any of the content or data. and hold down Home and Power buttons. .Update Data Profile. Hey your matter was brought to my attention, please send a DM so that your matter can be assisted. I am here to help. Resolution Supervisor --KR\\nuser: What is a DM?\\nagent: Please send us a Direct Message, so that we can further assist you. Resolution Supervisor --KR\\n\\n### Response:\\nCustomer is complaining about facing poor data service connection issue. Agent informed customer to send an direct message for further assistance.',\n",
              " \"### Instruction: Below is a conversation between a human and an AI agent. Write a summary of the conversation.\\n\\n### Input:\\nuser: I've been waiting for my for almost half an hour now (even though eta was 5 min) &amp; hes so rude I'm not sure I should get in his car\\nagent: We're here to help! Send us a DM with your email address so we can follow up.\\nuser: He legit just started driving off before I even shut my door. This guy is a horrendous driver\\nagent: Happy to help! Please confirm your email address or phone number so we can further assist.\\nuser: Email is __email__\\nagent: Thank you for reaching back out to us with that information. However, we do see two trips taken today. Can you please DM us with the name of the driver so we can look into this further. Also we suggest you delete your personal email address off of social media.\\nuser: The trip was happening as I was tweeting, whichever trip was an hour ago.\\nagent: A member of our team has reached out to you via email and in-app support about this. Please follow up with us there for further assistance.\\n\\n### Response:\\nCustomer is complaining about the uber support driver who is very rude. Agent updated the customer to DM them with the name of the driver so they can look into this further.\",\n",
              " \"### Instruction: Below is a conversation between a human and an AI agent. Write a summary of the conversation.\\n\\n### Input:\\nuser: why does Spotify close and not play in the background like other music apps ?\\nagent: Hey Ethan, that shouldn't be happening. What device, operating system, and Spotify version are you on? We'll see what we can suggest /AY\\nuser: Galaxy s7 edge\\nagent: 1: Thanks. Does logging out &gt; restarting your device &gt; logging back in help? It'd be great too if you could send us the exact... 2: Android and Spotify versions this is happening on. We'll be on the lookout for your response /AY\\nuser: Android version 7.0 Spotify version: 8.4.25.771 This doesn't help, no\\nagent: Just to check, does it stop when you lock your screen, hit the home button, or both? Also, do you get lock-screen controls? /MU\\nuser: Nope the only thing that occurs is when I close the tab .. I do get lock screen controls\\nagent: Can you DM us your account's username or email address? We'll check things backstage /MU\\n\\n### Response:\\nCustomer is complaining about Spotifycares not been played in background like other music apps. Agent updated the customer to restart the device and log back if then also issue not resolved please DM the account's username and email address.\",\n",
              " \"### Instruction: Below is a conversation between a human and an AI agent. Write a summary of the conversation.\\n\\n### Input:\\nuser: help! Since your update from 6 to CC all my RAM is being used to just run basic functions. Editing time has slowed to a crawl because each photo takes minutes to work on instead of seconds.\\nagent: Hi Sarah, do you have Lightroom Classic CC installed? Also, please try the steps mentioned in the article to improve Lightroom performance: .\\nuser: Yep, I have classic CC installed. I've also made sure to increase the Cache size, defragment the disc, and the other things listed. It helped a little, but it's still overwhelmingly eating up my RAM.\\nagent: Thanks for the additional information, Sarah. We're looking into this and will follow up with next steps ASAP  How much RAM do you have on your computer?\\nuser: 8GB. But I've realized that the problem isn't RAM but the process. It is constantly freezing and eating up every bit of space. This didn't happen until the switch to CC.\\nagent: Hi Sarah, May be its a repeated suggestion, Have you tried turning of the GPU from the Lightroom preferences? Preferences &gt; Performance tab &gt; Uncheck GPU &gt; Restart Lr. Thanks.\\nuser: Yeah, I've had that turned off for a long time\\nagent: Hi Sarah, Could you please help us with screenshots of the high CPU usage you've reported? Have you tried running Lightroom with no other apps running in the background and how much RAM is being used by Lightroom when it is idle? Thanks,\\n\\n### Response:\\nCustomer complaints about  high CPU usage. Agents informs customer to send an screen shot of high CPU usage which has been  reported.\",\n",
              " \"### Instruction: Below is a conversation between a human and an AI agent. Write a summary of the conversation.\\n\\n### Input:\\nuser: So, it seems that although I bought a ticket from you and the journey was delayed by over half an hour, that I have to wait indefinitely for a refund and call three separate numbers to get anywhere - despite applying online. Now you've fobbed me onto Northern Rail.\\nagent: Do you have a VT reference number we can view or an Email you can DM us with so we can search.\\nuser: Here's the VT ref no: 2326635614\\nagent: That's the booking reference, when you applied, did you get one that starts VT?\\nuser: I got an auto acknowledgement on 11th October, with no reference: Dear Customer, Thank you for your correspondence, this is an automated response to confirm that we have received your email and we will be in touch again soon.\\nagent: I can see a case reference listed VT-111017-0301 which is with our team though you should have received a response by now. Apologies for this delay. I've escalated with our Customer Resolutions team\\nuser: Thank you, I've received an email from them. But all they are saying is they've forwarded the issue to Northern - again fobbing me off to them. I bought the ticket from you, not them.\\nagent: If you were delayed on a service you would need to claim for this through them. The team have passed this over to Northern to look in to\\n\\n### Response:\\nThe customer says he bought a ticket from them but the journey was delayed and the refund is also not done for him. The agent says the issue have been forwarded to Northern to look to.\",\n",
              " \"### Instruction: Below is a conversation between a human and an AI agent. Write a summary of the conversation.\\n\\n### Input:\\nuser: ordered somethin on &amp; accidentally used my parents addy cuz it was default&amp; requested to cancel right away and it was still too late ?\\nagent: The seller should still be able to cancel it unless they've already shipped it. Have you reached out to them?\\nuser: I put in the request to cancel like 10min after i made the order because i made mistake on the address /1 I didnt received a message till today in the evening that they couldn’t cancel because it has shipped/2 Yet its not showing as shipped on my ebay app nor have i received a tracking number ?\\nagent: That's strange. Have you said this to them? If it has been sent, will your parents be able to collect it &amp; get it to you?\\nuser: Yes i did and they should i just wont get the package in time\\nagent: I see. I'm afraid there's nothing we can do as we can't force the seller to cancel the transaction for you if it's sent. 1/2 I would recommend to continue to work with the seller and open a returns request if it doesn't arrive on time.  2/2\\n\\n### Response:\\nCustomer wants to cancel an order which was placed by mistake. Agent states that to open a return request if the item didn't arrive on time.\",\n",
              " \"### Instruction: Below is a conversation between a human and an AI agent. Write a summary of the conversation.\\n\\n### Input:\\nuser: For $219 a month I get to watch my on FS1 in the #ALDS with static on\\nagent: Help has arrived. Can you try disconnecting both power and coax cables from the box and wall jack? Reconnect after 30 seconds.\\nuser: That didn't solve it.\\nagent: The game is again pixelated this evening? Is it only happening on FS1 or other channels as well?\\nuser: Yes, again. I only see the pixelation on FS1.\\nagent: Is it happening on all of your TVs as well?\\nuser: Yes it's happening on all my TVs.\\nagent: Do you know where the main splitter is at in the home?\\n\\n### Response:\\nHere customer is facing some issue to connect the cable wire to device so asking for the help. Here agent asks customer to disconnect the cable and power to help him ask to check the main power supply.\",\n",
              " \"### Instruction: Below is a conversation between a human and an AI agent. Write a summary of the conversation.\\n\\n### Input:\\nuser: hi, what’s going on I’ve placed an order a week ago now supposed to arrive today, and says it’s delayed, delayed where ?\\nagent: I'm sorry for the delay! Have you been provided a new delivery date?\\nuser: No I haven’t No I haven’t it still says it’s arriving today\\nagent: Hey Jordan, who is the carrier in question? What does the latest tracking advise?\\nuser: \\nagent: Hi, I am very sorry about the delay. We will update you via email when we have more information on the delivery date.\\n\\n### Response:\\nCustomer is complaining about the order which is placed is not been delivered on time. Agent updated that they will inform via email when they have more information on the delivery date.\",\n",
              " \"### Instruction: Below is a conversation between a human and an AI agent. Write a summary of the conversation.\\n\\n### Input:\\nuser: 2/2 spending £50+ on train tickets doesn’t give me the right to get on an earlier train, despite mine being heavily delayed.\\nagent: Were you travelling with an Advance ticket for your journey?\\nuser: Yes, have no problem with my normal train but this delay will make me: miss my next train from Bham,then add an hour+ to my drive time after\\nagent: I understand the frustration with the delay. As that service is still in operation you do have to travel as booked\\nuser: Which is bull. What ever happened to compassion? Seems you guys don’t care once money has changed hands It’s not as if it was peak time - the train was near empty leaving the station here.\\nagent: That is the condition of that fare. It is only valid on the booked train. Staff will have followed the correct procedure\\nuser: Well the booked train is not arriving at the time I booked for. So the service I have PAID for does not exist Here’s ANOTHER route I could have taken Again, an empty train\\nagent: Advance fares are only valid on the booked service, which is still running\\nuser: Yeah, you keep saying that. Obviously missing my next train means nothing? And it is running 24 mins late currently. You think that is a service worth paying for?\\nagent: I'm afraid I'm unable to advise further on this as staff have followed the correct protocol in these circumstances\\n\\n### Response:\\nCustoner is complaining about delay of advance fare train booking. Agent has been justifying the customer about the issue saying that staff have followed the correct protocol in the circumstances.\",\n",
              " \"### Instruction: Below is a conversation between a human and an AI agent. Write a summary of the conversation.\\n\\n### Input:\\nuser: hi guys, please cydm\\nagent: What's up SimultaneousEquation?\\nuser: Well I had some questions so I sent it to your dm\\nagent: Alright.\\nuser: Thank you\\nagent: You're welcome.\\nuser: My issue hasn’t been resolved yet though\\nagent: Oops! Did you use this same handle(\\nuser: Yes I did Anyway, if you could tell me which countries have roaming services, that would be fine too\\nagent: We have responded to your DM.\\n\\n### Response:\\nCustomer is informing that he has some questions regarding the service which have send through DM. Agent asked about the simultaneous equation and informed the customer that they have replied to the DM.\",\n",
              " '### Instruction: Below is a conversation between a human and an AI agent. Write a summary of the conversation.\\n\\n### Input:\\nuser: fuck you, your company, your CEO and even COO. you will fold up and run into loss as u have caused me pains,4weeks n counting\\nagent: Hello kindly provide a mobile number we can reach you on for verbal clarification. Thank you.\\nuser: Which verbal clarifications... you are fraud, you defrauded me, lied to me and still rude.. cc Go check your DM and see the number I have put down since the 7th , especially that Lawrence Igbeme or something.. he thinks he is smart 08077364214\\nagent: Hello we acknowledge your complaint. Please be patient while we resolve the issue. Thank you.  Hello we acknowledge your complaint. Please be patient while we resolve the issue. Thank you.  Hello as discussed, kindly be patient as the issue is being looked into. All inconveniences regretted. Thank you.\\nuser: You are suppose to call me by 12 according to your cc\\nagent: Hello as discussed, kindly be patient as the issue is being looked into. All inconveniences regretted. Thank you. Hello please be informed that you will be contacted shortly on this. Thank you.\\n\\n### Response:\\nCustomer is aggressive about his previous  conversation with agent and complaint registered. Agent request customer to have patient and informed that they will be contacted shortly.',\n",
              " \"### Instruction: Below is a conversation between a human and an AI agent. Write a summary of the conversation.\\n\\n### Input:\\nuser: I'd like to talk to someone to identify what features on Azure we need (and related costs). Who can I talk to? #azcommunity\\nagent: Hello, our Product Team would be a good place to start. Feel free to reach out, more info here:  Hi Hamish, just wanted to check in to see if you were in touch 1  with someone from our product team or if there are any outstanding concerns? 2\\nuser: I made contact via text and somebody was supposed to call me by today. However, I’m yet to hear anything\\nagent: Thanks. Out of curiosity, did you receive any reference ID's or records of the interactions with the team?\\nuser: No, unfortunately\\nagent: Can you confirm whereabouts you based?\\nuser: I’m in Australia\\nagent: Sorry for the delay. We are in touch with someone from the team now and looking into getting someone to 1  contact you at the soonest. Do you mind DM'ing us with your contact details (email / telephone number and name, 2  if different from what's on twitter) and we will arrange for someone to reach out to you: 3\\n\\n### Response:\\nCustomer would like to talk to someone to identify what features on Azure they need and its related costs. Agent updates to DM them with their contact details and they will arrange for someone to reach them out.\",\n",
              " '### Instruction: Below is a conversation between a human and an AI agent. Write a summary of the conversation.\\n\\n### Input:\\nuser: Why does Win 7 keep: - Changing PC time for DLS when it\\'s on GMT+10 w/ no update.\\nagent: Hi there! We definitely want to help. Have you made any changes? What troubleshooting steps have you done so far?\\nuser: I don\\'t make changes, which is why I disabled Windows Update.\\nagent: 1/2 Let’s work on solving the DST setting on your PC, please follow the steps on this link: 2/2 Select the option “How to configure the daylight saving time settings”. Let us know if this helps.\\nuser: URL to \"Download the Tzedit.exe utility package now.\" is not working, file not found.\\nagent: It appears that it would be best if we discuss this case with our Answer Desk by going to this link:\\nuser: Thanks will try tomorrow when I\\'m more awake and alert :)\\nagent: Thanks for letting us know. Don’t hesitate to tweet back if you need further assistance. Cheers. Hi. We just wanted to do a quick follow up to check if you need further help. Please let us know. Cheers. Hi. Help us improve our Twitter support by answering our survey on this link:\\n\\n### Response:\\nCustomer complains about  an issue  with operating system trouble shoot. Agent has  sent a URL link to customer to resolve the issue.',\n",
              " \"### Instruction: Below is a conversation between a human and an AI agent. Write a summary of the conversation.\\n\\n### Input:\\nuser: 16 days ago took $1200 from my bank account without notice. We called and were told the mistake would be fixed in 2-5 days… #sprint #2weekslater\\nagent: Please shoot us d DM, so we can assist you further. - LP\\nuser: we have called several times and even emailed sprint corporate. we keep being told the same thing “2-5 days” “we’ll contact you shortly” etc. yet the issue has still not been fixed. it seems the only way to get your attention is bad publicity.\\nagent: To me customer service is doing the right thing, that's why I would like to speak about this on a private platform. Please DM me so I can further assists you. - LP\\nuser: I’ll DM you, but for the record, you all aren’t exactly the ones to talk about doing the “right” thing.\\nagent: I'll be waiting for private message! Thanks in advance for trying and giving me the chance to help you out. - LP\\n\\n### Response:\\nThe customer is complaining that his $1200 has been deducted from his bank account without his notice. The agent is asking the customer to DM to assist further about the issue.\",\n",
              " \"### Instruction: Below is a conversation between a human and an AI agent. Write a summary of the conversation.\\n\\n### Input:\\nuser: your self service chap on the tills at Pool Tesco Extra, was a big ray of sunshine on a very blustery grey day. #sunshineonarainyday\\nagent: Hi there, that's great to hear! Could you DM me with the name or a description of this colleague so I can pass your great feedback on to the store's management team? Thanks - Dafydd\\nuser: Done!\\nagent: Thanks for replying! Can I ask if this was the Poole Fleets Corner Extra on Waterloo Road, or Poole Extra on Yarrow Road? Thanks - Struan :)\\nuser: It was the one in Cornwall 👇🏽 I called the store and found him. Apparently he's called M Champion: Champion by name, Champion by nature ✨\\nagent: Hi there. I just found the store too. I'm so glad you called the store and could let them know how amazing he was yourself. I've also logged it on our system so it'll definitely get fed back to him. :) TY- Charlotte\\nuser: Ah, good people deserve good feedback. Thank you.\\nagent: Hi there, definitely! I believe everybody needs some recognition when doing a great job. Thank you - Brooke\\n\\n### Response:\\nCustomer has given the great feedback on service. Agent appreciated and asked customer to DM name and description of the colleague to recognise the person doing great job.\",\n",
              " '### Instruction: Below is a conversation between a human and an AI agent. Write a summary of the conversation.\\n\\n### Input:\\nuser: How can sell enough tickets for a 10 coach train and a 5 coach one appears! Awful journey and service.\\nagent: The majority of our customers buy a ticket for a journey and not the individual train, we do not limit the amount 1/3 of people who board, and leave it to passenger discretion, as it can cause more issues to refuse entry. In this case I apologise for the 2/3 inconvenience, however there was a fault on one of the units putting it out of use and we had no choice but to run with 5 coaches.  3/3\\nuser: I appreciate you saying that but you don’t even know what train it is that ran with the 5 coaches not 10. Most unsatisfactory!! !\\nagent: Apologies I assumed that it was the 18:30 from Waterloo to Weymouth as that was the one I was aware of.\\nuser: It was the 18:35, can I get an email of someone to take this further please?\\nagent: Hi, you can email our customer services team here: __email__ or complete the following form: 1/2  2/2\\n\\n### Response:\\nThe customer is asking for the email of someone to the issue for further. The agent given the email id to complete the  following form.',\n",
              " \"### Instruction: Below is a conversation between a human and an AI agent. Write a summary of the conversation.\\n\\n### Input:\\nuser: why can't I past commends into the web PowerShell terminal browser window?? ?\\nagent: Could you please explain more what you are unable to do?\\nuser: I had a text file with three sets of commands I needed to run. If I put into the clipboard one of those settings, then go back to the PS browser, I cannot paste in via ctrl-v.\\nagent: Hi, just to confirm, you are unable to use ctrl-v within the PowerShell console?\\nuser: Yes, correct\\nagent: Could you post this here and send us the link? We'll have an engineer take a look.  Just checking back in. Did you get a chance to post your question in the forum?\\n\\n### Response:\\nCustomer is having a text file which he needs to run. If the file is put into the clipboard it goes back to the browser and it is unable to use ctrl+v with powershell. Agent asked the customer to post the issue in the URL and updated that engineer is going to resolve the issue.\",\n",
              " \"### Instruction: Below is a conversation between a human and an AI agent. Write a summary of the conversation.\\n\\n### Input:\\nuser: Why is the sync so bad?\\nagent: What's going on?\\nuser: MSNBC audio way ahead of video\\nagent: That's odd. Does this occur on multiple TV's?\\nuser: Don’t know, but it’s been happening for several days No, just th Just on the main one we always watch\\nagent: Can you unplug the power cord to the cable box. Wait a minute, and then plug the power cord back in.\\nuser: Not on the crt tv\\nagent: Not on the TV.\\nuser: Nit on the old cathode Ray tv\\nagent: Does it happen on any other channels?\\nuser: It’s booting up... hold on That did it, thanks\\nagent: Our pleasure. Enjoy your day.\\n\\n### Response:\\nThe customer says that MSNBC audio is way ahead of video in his old cathod Ray tv. The agent suggests to unplug the power cord to the cable box and asks does the customer facing same issue with all the channels.\",\n",
              " \"### Instruction: Below is a conversation between a human and an AI agent. Write a summary of the conversation.\\n\\n### Input:\\nuser: I have book air asia bangalore to pune and paid 650 rs for seat with extra leg space and you assigned some other seat to my wife #whatcrap #assignproperseat\\nagent: Please be informed that you didnot even pay for the seat and we have given you a hot seat for Free &gt;&gt;&gt; &gt; Please check with the agent that you have made the booking with .Please do take note that the passenger boarded the flight\\nuser: why you overcharged me for seat when it was not sent to airasia #refundmoney\\nagent: may we know what payment and refund you are looking for ? as per system your agent didnot even book the seat for you .Thanks\\nuser: i have booked round trip blr-pune-blr. choose 13f seat. ticket sent to me showing 13f seat. but it was not allocated to my wife who is travelling with infant. I am seeing that makemytrip has added seat surcharge to return trip. i am checking return trip seat assignment now. anyways you have given her better seat.thanks for help. please close the request.thanks for quick response.\\nagent: Then please refer to them and on the payment dispute.We will only advice on what is booked by the agent.Thanks-Emir You're most welcome. Do let us know if any further assistance is needed. Thank you and have a great day-Mariya\\n\\n### Response:\\nCustomer is complaining over the increased ticket fee for the return journey. Agent states that they have given a seat for free and only advice on what is booked by the agent.\",\n",
              " \"### Instruction: Below is a conversation between a human and an AI agent. Write a summary of the conversation.\\n\\n### Input:\\nuser: cancelling a train 20min before arrival is unacceptable! teenage son cycled to the station to find out train is now cancelled\\nagent: Hi Tracey, sorry to hear this. Where is he travelling between?\\nuser: From Tring to Hemel Hempstead! It’s his only form of transport for work - the train was on time when he checked before he left!\\nagent: I am sorry, there are over run engineering works which means we lost possession of the line. Unfortunately, this did result..1/2 2/2.. in us cancelling the already very late running train. Please pass on my apologies to your son.\\nuser: An apology isn’t going to get him to work!! ! Do London Midland want to call his boss and explain why he’s late for work today? ?\\nagent: As explained, Network Rail are responsible for the late works. We had no possession of the line. This means we could not run..1/2 2/2.. any trains. Should your son require a letter of confirmation for today's delay, we will be more than happy to provide this.\\n\\n### Response:\\nThe customer says that the London midland cancelled a train 20 min before arrival and his son got delayed to work due to the cancellation of the train. The agent asks where the customer's son is travelling between and informs that there are over run engineering works which means they lost possession of the line and adds that they will provide a letter of confirmation for delay if required.\",\n",
              " \"### Instruction: Below is a conversation between a human and an AI agent. Write a summary of the conversation.\\n\\n### Input:\\nuser: Just been to express, asked the assistant where the Bovril was..'never heard of it' he said! !🤤 I give up!! !\\nagent: Hi there, that's very strange indeed. can you let me know which store this was at and can have a look for you? TY - Lee\\nuser: Boar lane, Leeds..ain't bothered tbh about not having it. More the fact the young lad had never heard of it! 😂\\nagent: Sounds like our colleague could have been more helpful, I'd be happy to contact the store to let them know if you like? 1/2 Please give a brief description of the colleague and time you visited so I can do this. Also, The Herbs was a great show! TY - Struan 2/2\\nuser: I'm not a grass you know! !\\nagent: No worries! I've had a look and they don't stock it at that store, but they have it in the Bond St. Metro! :) TY - Robyn\\nuser: Can i have 4 cans of Brewdog Elvis juice as compensation? As i had to use an Oxo cube instead.. ta\\nagent: Nice try! But I'm afraid not. The most I could offer is to log your suggestion that we start selling Bovril in your local store. - Cameron\\n\\n### Response:\\nCustomer asked the assistant where the Bovril was and the strange thing they notices was the assistant has never heard of it, and asks for compensation. Agent updates to provide brief description of the colleague and time they visited and replies that there is no compensation for this.\",\n",
              " \"### Instruction: Below is a conversation between a human and an AI agent. Write a summary of the conversation.\\n\\n### Input:\\nuser: I can’t seem to be able to get onto titanfall 2 multiplayer. It’s telling me my account isn’t permitted to play online. I’ve tested other games and they work but TF2 still won’t budge.\\nagent: Hey there, can you please DM us with a full description of the issue you 1  are having along with your Gamertag? Please include verbatims of any error you are seeing. 2\\nuser: Dm sent along with screenshot\\nagent: Are you able to provide us with your Gamertag so we can take a look?\\nuser: Goldendemon89 I logged out of my account and the game popped up saying it needed an update. I have my updates set to auto though so it should already have been done. Anyway after installing and signing back in I can get onto multiplayer now.\\nagent: Happy to hear that! It may be that the update just not registered for your console. Do let us know if you have more issues with the game.\\n\\n### Response:\\nThe customer says that he is unable to get onto titanfall 2 multiplayer, its telling that his account isn't permitted to play online and adds that he had tested other games and they work but TF2 still won't budge. The agent asks to DM the full description of the issue and asks to provide them the Gamertag so that they can assist further on the issue.\",\n",
              " '### Instruction: Below is a conversation between a human and an AI agent. Write a summary of the conversation.\\n\\n### Input:\\nuser: \\nagent: #VTUPDATE Services are likely to face delays for the remainder of the day\\nuser: Unimpressed at Birmingham New street. Platform is jammed, no direction, it is absolute carnage!\\nagent: Not great to hear, there has been issues today with a points failure causing this, Frankie\\nuser: My journey was disrupted in the morning already so knew about the problem, however directing and informing passengers would be helpful! Especially when 3 trainloads of people try to get on one train!\\nagent: We can appreciate that, many apologies\\nuser: Just to add to the insult on a packed and heavily delayed train. No onboard service either. The staff doesn’t even try.\\nagent: Sorry for your expereince, Delay Repay compensation is available to those who have been caught up in disruption and delayed by over 30 minutes. Please claim via our Delay Repay form here -\\n\\n### Response:\\nCustomer is complaining about delayed train. Agent sent an URL for claim via delay repay form.',\n",
              " \"### Instruction: Below is a conversation between a human and an AI agent. Write a summary of the conversation.\\n\\n### Input:\\nuser: 1st class WiFi is slower then dial up.... What a waste upgrading my ticket 😡\\nagent: Hi Viccy. What service are you on please? Rach\\nuser: It's awful\\nagent: To confirm, you're on the 0815 departure from Paddington? Phil.\\nuser: Yup\\nagent: Thanks - Are you having trouble connecting or is it running slowly? Phil.\\nuser: Connected fine. Running painfully slow.\\nagent: Sorry to hear this. Speed and connectivity is dependent on the mobile signal in the area as well as the number of users at a time. Rach\\nuser: Well it says low users, and there's more empty seats then used... So just a poor show really!\\nagent: It could also be that mobile signal in the area is not so fast - I'll record your feedback. Phil.\\n\\n### Response:\\nCustomer is complaining about the slow wifi connection. Agent replied that the speed of network is depend upon the mobile signal and area.\",\n",
              " '### Instruction: Below is a conversation between a human and an AI agent. Write a summary of the conversation.\\n\\n### Input:\\nuser: Westcoast wins after experiencing Eastcoast today for the 1st time 😂 5 1/2 hours home - Stevenage, I can drive in 3.5. More frazzled than tackling the M1 &amp; missed my meeting!! Not all virgins fault but short staff and delayed train from Doncaster did not help 👊🏻\\nagent: Come back to us, Sue 😂\\nuser: Trust me tomorrow is London to Manchester. I’m with you all the way 😉👍🏻\\nagent: We look forward to seeing you back onboard, Sue 😊\\nuser: Do you stock hangover cures in the shop?❤️🙈\\nagent: We do lovely coffee ☕\\nuser: Hmmm not sure that’s enough today 😂\\nagent: Hair of the dog?\\nuser: Might be me onthe train. Give me sympathy if you see me 🤪\\nagent: Hair of the dog it is then 🍺\\n\\n### Response:\\nCustomer gives the experience details about and ask the details. Gives the details about the train.',\n",
              " \"### Instruction: Below is a conversation between a human and an AI agent. Write a summary of the conversation.\\n\\n### Input:\\nuser: my computer has been updating constantly the last 2 weeks, when is the misery going to stop?\\nagent: Hi, Chris! We definitely want to help. Just to clarify, which version of Windows are you using? Tell us more about your concern.\\nuser: windows 10\\nagent: Thank you for the quick reply. What made you say that it's been updating constantly? Did you encounter any error messages? Hello, Chris! We'd like to know the status of your concern. Feel free to reach us back.\\nuser: no, it is still updating everyday\\nagent: That's strange. Are you having issues installing Windows updates? See this page:\\nuser: been there done that 3x\\nagent: Let's get this sorted. To resolve the issue with the update, you can run the update troubleshooter:\\nuser: I seriously cannot handle 1 more two hour update of this computer. I knew I should have bought a Mac\\nagent: (1/2) We understand. Updates are needed to keep Windows 10 secure. There are still some minor adjustments being integrated into (2/2) Windows 10 and this is done through the updates that you are receiving.\\n\\n### Response:\\nThe customer says his computer is been updating constantly and asks the method to stop updating. The agent asks which version of Windows does the customer is using, does he receive any error message and says updates are needed to keep Windows 10 secure.\",\n",
              " \"### Instruction: Below is a conversation between a human and an AI agent. Write a summary of the conversation.\\n\\n### Input:\\nuser: I want to buy some stuff from but they are not shipping to my address. That stuff doesn't available on Amazon India. What should I\\nagent: I'm sorry the products you'd like to buy aren't available on Amazon.in. Could you let us know what were they?\\nuser: Self Pleasuring stuff Disgraceful. We are not as privileged as others to shop on Amazon\\nagent: You may check under health and care category on our website.\\nuser: Thanks\\nagent: Sorry to know that the product you are looking for is unavailable with us right now. (1/2) PJ Please keep checking our website for further updates on the availability of the same. (2/2) PJ\\n\\n### Response:\\nThe customer says that he wants to buy some product from amazon but they are not shipping that to his address. The agent asks what was product the customer wants to buy and asks to keep checking their website for further updates on the availability of the same since the product was not available at that moment.\",\n",
              " \"### Instruction: Below is a conversation between a human and an AI agent. Write a summary of the conversation.\\n\\n### Input:\\nuser: when you say click the banner for 30 minutes of ad free listening. Shouldn’t I get 30 minutes of ad free listening instead of 10?\\nagent: Hey Travis, that doesn't sound good! Did the app crash at any point during the 30 minutes? That can cause the ad-free time to reset /MC\\nuser: No it did not. Continuous listening. Also why does my girlfriends account go three or more songs between ads and mine usually one after being a long time premium account\\nagent: Thanks! Just to confirm, did you watch the video ad that grants you 30 minutes ad-free listening in full after hearing the offer? /MC\\nuser: Yes Spotify followed up by thanking me for watching the ad and then informing me that I could enjoy the next 30 minutes of ad free listening\\nagent: That's strange. We'll get this passed on to our devs so they can look into it. For now, give us a shout if you need anything else /MC\\n\\n### Response:\\nThe customer says spotify followed up by thanking him for watching the ad and then informing him that he could enjoy next 30 minuted of ad free listening but he could not be able to watch ad free video. The agent says they passed on the issue to devs so that they can look into it.\",\n",
              " '### Instruction: Below is a conversation between a human and an AI agent. Write a summary of the conversation.\\n\\n### Input:\\nuser: Eager to get to DTW to engage w/ However, stuck on tarmac in MKE cause my flight has unknown glitch.\\nagent: Our crew\\'s working hard to prepare for takeoff and we\\'ll have you in DTW as soon as we have a chance. We appreciate your patience.\\nuser: I get it. I\\'m probably going to miss my connection in ORD to DTW. So I gotta figure that situation out.\\nagent: We\\'ve added a back up flight for you to DTW, just in case it\\'s needed.\\nuser: Will prob need it as connection is departing in 5 min, and I\\'m still taxiing in ORD\\nagent: Please see an agent upon arrival then and they\\'ll issue you a new boarding pass.\\nuser: Should I go to the gate my departed flight was scheduled or where should I find an agent?\\nagent: You can speak with the agent that will meet your inbound aircraft or go to your next gate G16. Please check the monitors upon arrival.\\nuser: No agent, so I went to G16. Soonest they could rebook me-12:20 departure. Not ideal given that puts me 3 hours late for my DTW meeting.\\nagent: We hear your frustration and apologize that you\\'re arriving later than originally planned and for any inconvenience caused.\\nuser: When you had mentioned \"backup flight\" I may have gotten my hopes up that I\\'d make my meeting. I need to manage my expectations better.\\nagent: We\\'re sorry that we didn\\'t have any flights sooner, or we\\'d have you on your way to the meeting now.\\n\\n### Response:\\nCustomer complaints about delay in flight. Agent direct to check monitors on arrival.',\n",
              " \"### Instruction: Below is a conversation between a human and an AI agent. Write a summary of the conversation.\\n\\n### Input:\\nuser: And then tell me I'll save 200 by going through US Cellular to get it fixed... how about I pay nothing and cancel my device protection too?\\nagent: Hell Jesca. Is there anything we can help with today?\\nuser: Nope. Just going to chill with my broken phone for 2 years because I'm not paying to fix it when I already pay for device protection every month.\\nagent: What happened to your phone?\\nuser: The screen cracked in the lower left corner.\\nagent: Which phone do you have?\\nuser: Samsung galaxy s8 and I already went in to my local store to ask my options and I don't have $175 to fix it.\\nagent: Do you have any lines on your account that are eligible to upgrade?\\nuser: No. I have a single plan and I just got this phone in June\\nagent: In this case, filing a claim through Device Protection would be the cheapest option for replacing the phone. Is the screen still functional?\\n\\n### Response:\\nCustomer is complaining that even after paying for the device protection every month, its not able to fix. Agent updates that in this case, filling a claim would be cheapest option for replacing the phone.\",\n",
              " \"### Instruction: Below is a conversation between a human and an AI agent. Write a summary of the conversation.\\n\\n### Input:\\nuser: Can’t get into apple news on iPhone🤷🏼\\u200d♂️\\nagent: Happy to help. So we're on the same page is this the Apple News app or the website you're attempting to access?\\nuser: Apple news app Tried turning phone off and on n nothing\\nagent: Got it, thanks. Which iOS does this occur on? Also, are you getting an error message when you try and open the News app?\\nuser: iOS 11.0.3. No error msg just sits their blank Click app - blank page\\nagent: Got it. When was the last time you were able to access the News app? And have you moved between countries recently?\\nuser: Yesterday , still in same place Los Angeles\\nagent: Thanks for clarifying. Let's go ahead and delete and reinstall the News app:\\nuser: Ok I will try It’s working again thx👍\\nagent: Excellent! We're glad to hear that. You're most welcome! Enjoy the rest of your day.\\n\\n### Response:\\nCustomer complaining about he cant get apple news  on iphone. Agent suggests to delete and reinstall the news app using URL.\",\n",
              " \"### Instruction: Below is a conversation between a human and an AI agent. Write a summary of the conversation.\\n\\n### Input:\\nuser: why aren't you delivering products to #Kalimpong? #pin 734301 It was not like this few weeks ago\\nagent: Due to shipping restrictions or non-availability of courier service in your area, this item can't be delivered to your.1/2  pincode you can check the eligibility of your pincode for delivery of an item by entering it on the product details page.2/2\\nuser: But its available . I am able to order stuffs from other websites .\\nagent: We'll surely take these comments as a feedback and work on it.2/2  As informed the delivery of products depends on the serviceability of pincodes and the courier availability.1/2\\nuser: Do have a look at it\\nagent: We certainly will.\\n\\n### Response:\\nCustomer is complaining about the product which is not delivered on time. Agent informed that due to the shipping restriction or non availability of courier service in customer's area this product will delivered to 1/2 RD.\",\n",
              " \"### Instruction: Below is a conversation between a human and an AI agent. Write a summary of the conversation.\\n\\n### Input:\\nuser: Would love a update that didn't break something. Press and hold for right click can't be turned off on anymore. Digital artists don't use press and hold, it makes the pen unusable.\\nagent: Let's help you check on this, Arran. What steps have you tried as far as resolving the press and hold function of your Surface Pen? As a work around, you may try to put the duration of he press and hold to the longest setting and let us know if that helps out.\\nuser: Ran surface diagnostic, reinstalled drivers +ntrig, ran windows update. Tried with a different pen. I think it's the fall update. I'm on the book performance base.\\nagent: Have you installed the cumulative update for the Windows Fall Creators?\\nuser: My device says everything is up to date :/\\nagent: If the feature is no longer working after the recent update, we can suggest two options. One is to rollback the update and 2nd is to open Feedback Hub and suggest this features to our developers through this link: Hi Arran. Checking back with you. Were we able to help you resolve your issue?\\n\\n### Response:\\nCustomer is complaining for not being able to use the surface pen. Agent requests to rollback the update and to suggest this feature to their developers.\",\n",
              " '### Instruction: Below is a conversation between a human and an AI agent. Write a summary of the conversation.\\n\\n### Input:\\nuser: i did not forget about my issue. Will you all compensate me for an employee disseminating faulty information? #IWantMyBeats #IDeserveFairTreatment\\nagent: Unfortunately, we are not able to offer any compensation.\\nuser: That’s absolutely disgraceful that I️ have to pay for an employees miscue\\nagent: We have forward your information to our team and we will be in touch to discuss your concerns.\\nuser: I have yet to hear from a member from your team. When should I expect to?\\nagent: We have escalated this to a specialist for someone to reach you further. Please let us know if you have not been contacted by Friday. Thank you for your patience.\\nuser: I have yet to be contacted, when should I expect to hear from a specialist?\\nagent: We have escalated this situation to our Amazon Corporate team. Once we have finished an investigation, we will follow up with you. Thank you for your patience.\\n\\n### Response:\\nThe customer is asking will the company compensate him for an employee disseminating faulty information. The agent replies unfortunately they do not offer any compensation and they have escalated the situation to their amazon corporate team.',\n",
              " \"### Instruction: Below is a conversation between a human and an AI agent. Write a summary of the conversation.\\n\\n### Input:\\nuser: what is going on with #SNF being frozen for the last 30 minutes. All other channels are working and I’m missing the game because of #Fios being messed up.\\nagent: Good evening, is this happening on all boxes?\\nuser: It was happening on both boxes in the house. Yes.\\nagent: We would want to reseat the coax cable at the main DVR and the splitter. Can you take that coax out and then put it back in securely?\\nuser: But it’s only that one channel. All other channels are working fine Coax in main box taken out and put back in. Still frozen\\nagent: That's fine. We will still would need to reseat coax and unplug the power cord.\\nuser: Power reset it. Working now.\\nagent: Ok great we are happy to hear that! Have a great day!\\n\\n### Response:\\nCustomer complains that he is missing the game as #SNF being stuck for 30 minutes. Agent suggested to reset coax cable and to unplug the power cord.\",\n",
              " \"### Instruction: Below is a conversation between a human and an AI agent. Write a summary of the conversation.\\n\\n### Input:\\nuser: Could have died eating a pie. Nearly choked on piece of glass.\\nagent: I'm really sorry about this Rob. Are you okay? Do you still have the products packaging and piece of glass found? Aisha\\nuser: Yes ok luckily. Bit on it before swallowing. Yes I still have the glass and packaging.\\nagent: I'm glad you're alright! Could you please confirm if you're able to return this to store, so we can send it off to... 1/2 ...be tested by our Product Quality Team? If so, please let us know what store you'll be returning it to. Marc 2/2\\nuser: I will return to Sainsbury’s in Dorking. Yes\\nagent: Thanks Rob! Can you DM us your full name, address and contact number via the link...1/2 ... please? We'll give you a reference number to take with you. Lauren 2/2\\n\\n### Response:\\nCustomer is complaining about the sainsburys pie  choked on pieces of glass. Agent asks DM full name, address and contact number via the link and gives a reference number.\",\n",
              " '### Instruction: Below is a conversation between a human and an AI agent. Write a summary of the conversation.\\n\\n### Input:\\nuser: do any of your train attendants actually check to see if there are people still getting on the train before closing doors on them? Luckily the transport police at the station were very helpful and made up for it...\\nagent: Hi Elizabeth, can you let me know which service you are referring to please?\\nuser: 9.29 from motspur Park\\nagent: Thank you, and sorry to hear of your experience. I will pass your comments onto the relevant management\\nuser: Thanks - can you also tell me when children’s travel stopped being free as per this article\\nagent: Hi, this page explains how the free travel in London operates\\nuser: So my daughter should have been free going from motspur Park to Waterloo yesterday - man at the station said we had to pay.\\nagent: Hi, your daughter would have needed a 5-10 Zip Oyster card in order to have travelled for free yesterday\\n\\n### Response:\\nCustomer complaining that the peoples are still getting on the train before closing doors and need train attendants actually. Agent is asking let he know which service he is referring.',\n",
              " \"### Instruction: Below is a conversation between a human and an AI agent. Write a summary of the conversation.\\n\\n### Input:\\nuser: hi, need help setting my modem/router combo to bridges mode.\\nagent: The modem you desccribed handles Internet, home network, and telephone service. -Chris It can be exchanged for one that handles just the Internet and telephone services. -Chris\\nuser: I bought this modem outright from you in 2013. How do I go about exchanging it? So do I go to a cox store?\\nagent: The 3925's are not allowed to be purchased, I could check your account however it's likely a rental. -Chris\\nuser: It's a 3825.\\nagent: Hi Kyle, that definitely does make a difference then (no phone), DM the account info and I can see what the situation is.-Chris\\n\\n### Response:\\nCustomer is asking for the help to set modem /router combo to bridges mode and asking for exchange. Agent is replying that he will check his  account.\",\n",
              " '### Instruction: Below is a conversation between a human and an AI agent. Write a summary of the conversation.\\n\\n### Input:\\nuser: Any news on what happened to the 9.13am from Lawrence Hill to Bristol Parkway? It was delayed, now it appears to have disappeared.\\nagent: Hi there. There were animals on the line so the train had to bypass the station at a reduce speed so it could stop and investigate the damage to the service - Josh\\nuser: Okay. Why was this not communicated? Another train has just passed us, going to Parkway. Surely not too much to have it stop at LH? No apology either?\\nagent: Apologies for any lack of information provided, I appreciate this must be frustrating. Services are not always able to stop additionally as this can cause further delays for other train - Josh\\nuser: As opposed to the forty minutes I have now wasted sat on a platform? For a train that was supposed to be coming until it disappeared 3 minutes before on the live planner? How do I formally complain?\\nagent: Sorry for the inconvenience Greig. We always try to impact as few customers as possible. You can make a complaint by emailing __email__ - Josh\\n\\n### Response:\\nCustomer complaints about delay in train. Agent informs customer to register a complaint on  given email address.',\n",
              " \"### Instruction: Below is a conversation between a human and an AI agent. Write a summary of the conversation.\\n\\n### Input:\\nuser: lying to the cstmrs like usual. Force me to check bag despite empty overheads, u owe me a $1k voucher if my bag doesn't make it.\\nagent: The gate agent may request baggage check due to the weight and balance of the aircraft. It's for safety reasons. *ALS\\nuser: Will my bag be available at planeside at my connection or will it arrive at my final destination at baggage claim? And what is my next departure gate in ATL. My record locator is JJPBQN\\nagent: Gate checked luggage should be checked to the final destination. *ASK Your departure will be out of gate B12. *ASK\\nuser: Thx *ASK\\nagent: You are welcome. *AMS\\n\\n### Response:\\nCustomer is complaining about bag check and asked the agent what is the next departure gate in ATL. Agent updated that gate agent may request baggage check due to weight and balance of the aircraft and also informed that next departure will be out of gate B12.\",\n",
              " '### Instruction: Below is a conversation between a human and an AI agent. Write a summary of the conversation.\\n\\n### Input:\\nuser: He got sent on a last min business trip and is spending his 30th birthday alone without his family and fiancé. Flight 1461 SAN-MSP!🙏\\nagent: I see in his itinerary that his birthday is tomorrow. His flight today is already flying. Since the birthday is tomorrow, I put in a *CKP note asking to sing \"Happy Birthday\" to him on tomorrow\\'s flight from Minneapolis to Dallas. Hope he has a great day! *CKP\\nuser: Um, you are AMAZING! Can you add that it\\'s from his fiancé Stephanie? Thank you! ☺️✈️ #DeltaProud\\nagent: Can do. Have a great rest of your Monday and thanks for tweeting us! *CAR\\nuser: Bummer. He just landed and said no HBD message. 😏\\nagent: ...unable to do it every time. *AOS 2/2 Oh no. Sorry, that couldn\\'t honor the Happy Birthday wishes. We try our best to honor this special request. Unfortunately, we are... 1/2\\nuser: No worries, thanks!\\nagent: You are most welcome. Thank you so much for tweeting us today. *AOS\\n\\n### Response:\\nCustomer is saying about the last minute business trip and is spending 30th birthday alone without family and finance. Agent asking to sing happy birthday to him on tomorrows flight from minneaolis to dallas.',\n",
              " \"### Instruction: Below is a conversation between a human and an AI agent. Write a summary of the conversation.\\n\\n### Input:\\nuser: hi guys, can I get a refund for a cancelled train? Technically, awful service tonight I'm afraid.\\nagent: Hi Michael. Sorry for the disruption. What journey are you making and what type of ticket do you hold? Lewis\\nuser: Cheers (again) Lewis. We're no stranger to each other haha Oxford to Newport_SW. Ticket is part of a return but individually, is a super off peak single\\nagent: If delayed by an hour you can claim compensation here:\\nuser: Forgive me for being thick but, my train was cancelled. I'll be home over an hour late so delayed is correct but technically not correct?\\nagent: Compensation is based on the delay to your journey. If the cancellation means you arrive at your destination an hour later, you can claim. Lewis\\nuser: Awesome, thanks for your help this evening Lewis.\\nagent: You're welcome. Sorry again for the problems this evening. Lewis\\n\\n### Response:\\nCustomer is enquring about refund for a cancelled train. Agents informs customer  that he can claim if  its delayed by an hour.\",\n",
              " \"### Instruction: Below is a conversation between a human and an AI agent. Write a summary of the conversation.\\n\\n### Input:\\nuser: Flight 2166 this morning going out with 8+ comfort plus seats open and no upgrades cleared?!?! #paxexp #fail\\nagent: HI, Tim. According to the inventory, all the seats in Delta Confort+ are assigned. *ALY\\nuser: I can assure you they are not. Would you like a picture? The flight attendant headed to start her day in ATL is in one them 😜\\nagent: Goodness. Typically, upgrades would have been offered for the no-shows by this time. One moment, please. *ALY I'm sorry this wasn't handled better for you. *ALY\\nuser: Better luck for both of us next time...phones off 😕\\nagent: I'll make certain the appropriate leadership team is made aware of the situation. *ALY\\n\\n### Response:\\nCustomer is going with 8+ comfort plus seats and says that there is no updates on it. Agent updated that according to the inventory all the comfort seats are assigned.\",\n",
              " \"### Instruction: Below is a conversation between a human and an AI agent. Write a summary of the conversation.\\n\\n### Input:\\nuser: Come on how hard is it to work the tech? #technology\\nagent: Hi James, it looks like their off rather than out of order. Which store was this in please? Thanks, Leah.\\nuser: Queensway\\nagent: Hi James, I've spoken to the management at the store and they informed me the lanes were simply closed. 1/2 She also let me know that there were seven other lanes still open at this time too :). Hope this clears things up. - Peter 2/2\\nuser: Not really! Why would half the automated tolls be closed when there’s a line of people waiting... Hopefully will open near by soon\\nagent: Hi James, I'm sorry some of our tills were closed, your feedback has been given to my colleagues in store. 1/2 I hope that we can make some changes to prevent large queues in future for you. Thanks - Laura 2/2\\n\\n### Response:\\nCustomer is complaining that the large queue is formed due to the closing of half of the automated tolls. Agent states that the feedback is shared to his colleagues and will make changes to prevent large queues.\",\n",
              " \"### Instruction: Below is a conversation between a human and an AI agent. Write a summary of the conversation.\\n\\n### Input:\\nuser: Help please! My Kinect won't turn on my #XboxOneX console. It works properly for all other functions...\\nagent: Hey there. For this let's start with this page: . Keep us in the loop.\\nuser: I read that page, didn't really help. The Kinect works in all things except to turn on the console (it goes dark when the console turns off)\\nagent: Got it. What happens after you try to reset it with these steps: ? If still nothing let's toggle the setting off. Then power cycle: and toggle back on and try.\\nuser: That didn't work either. Keep in mind it is connected using the Kinect adapter to the XboxOneX. I did not have the problem with the ol Xbone\\nagent: For sure. Definitely odd. When you went through the reset steps did you unplug the whole adapter or just the Kinect from the adapter?\\nuser: Whole thing.\\nagent: Got it. Definitely odd. One thing that would be worth trying is unplugging the Kinect adapter then factory resetting the console keeping your games and apps: . Keep us in the loop.\\nuser: One other thing: The Kinect actually powers down when the console turns off - it didn't do that with my old Xbox.\\nagent: Hmm. To be sure previously did you have the Xbox One or the Xbox One? Definitely sounding odd.\\nuser: I had an original Xbox One. Just upgraded to Xbox One X. Everything worked fine on old box (and still does when I plug it in there)\\nagent: Thanks for that info. Do you currently have the console set to Energy saving mode: or instant on mode?\\nuser: It is set to instant on. Here are the current settings.\\nagent: Hey there, what happens if you use the Cortana commands instead of the Xbox commands?\\nuser: It doesn't seem to matter. The Kinect powers down when the console sleeps, hence it doesn't have power to turn the box on.\\nagent: Let's have you try reaching out to chat: support as they will be better equipped to assist you further.\\n\\n### Response:\\nCustomer is complaining about the kinect adaptor. Agent asks to reach out through chat and support for better equipped to assist further.\",\n",
              " '### Instruction: Below is a conversation between a human and an AI agent. Write a summary of the conversation.\\n\\n### Input:\\nuser: just wasted an hour of my life w \"cust service\". You should revisit that title. #horribleservice\\nagent: Hello there, what\\'s up? Please, tell us a bit more of what\\'s going on. - FS\\nuser: Trying to cancel a line I thought I already did but was told I could not because the phone had an ap on it that needed to be turned off. Phone is lost\\nagent: Was the phone an iphone?\\nuser: Yes. It has been lost for years\\nagent: Do you still have your itunes/icloud login to turn it off.\\nuser: It was my kids phone he doesn\\'t know it\\nagent: We would recommend calling apple and see if they can help with the login information or can possibly turn off that feature.\\n\\n### Response:\\nThe customer saying he is trying to cancel a line but could not because the phone had an app in it which he was unable to turn off. The agent asks which phone was that and suggests to call apple and see if they can help him out to turn it off.',\n",
              " \"### Instruction: Below is a conversation between a human and an AI agent. Write a summary of the conversation.\\n\\n### Input:\\nuser: MY PHONE IS UNLOCKED SO WHY CAN'T I VIEW MY NOTIFICATIONS #iOS11\\nagent: We'll work together to get you able to view those notifications in no time. What happens when you try to view that notification? Also, what iOS version is running and which iPhone model is this happening on?\\nuser: Nothing happens. iOS11.1.2. iPhone 7.\\nagent: Thanks for letting us know. Let's have you try to restart the iPhone and then see if that issue persists. This can help: Let us know how that goes afterward. Also, check out this article about notifications:\\nuser: happened multiple times over 3-4 weeks. even after restarting. can't seem to replicate the scenario though.\\nagent: Thanks for that info. To confirm, the issue is not happening now after restarting the iPhone?\\nuser: As I said I can't recreate the scenario but it happens once every week or so\\nagent: If that issue happens again, go ahead and reach out to us in DM and let us know more about it then. We'll be happy to help further then.\\n\\n### Response:\\nThe customer is asking why cant he view his notifications even after the phone is unlocked. The agent asks what is the model of the phone, what version of iOS runs on customer's phone and asks to DM them again if the same issue occurs.\",\n",
              " \"### Instruction: Below is a conversation between a human and an AI agent. Write a summary of the conversation.\\n\\n### Input:\\nuser: When is interest charged on Charge Cards with Pay Over Time, Sign and Travel, etc. From the Due Date or from the Closing Date?\\nagent: Hi there, thx for tweeting us. That's a great Q! Card Members can avoid paying interest by paying the Account Total New Balance (the Pay in Full Pay Over Time balances) in full by the Payment Due Date each month. The exception to this is charges transferred by the Card Member using the Select &amp; Pay Later feature. Select &amp; Pay Later charges start to accrue interest on the date the Card Member transfers the charge to the Pay Over Time balance. Hope this helps.\\nuser: Of course but that isn't my question. But thanks.\\nagent: Interest is accrued from the Due date. Enjoy your day,\\nuser: Thanks!\\nagent: You’re welcome. If you need us in the future we are just a tweet away!\\n\\n### Response:\\nCustomer wants to know about the pay over time for the interest charges on charge cards. Agent states that the interests can be avoided by paying the account total.\",\n",
              " \"### Instruction: Below is a conversation between a human and an AI agent. Write a summary of the conversation.\\n\\n### Input:\\nuser: some of my songs in my library are not playing at all!! !\\nagent: Hey Kaylie! Just to check, are those songs grayed-out? Sending us your device, operating system, and Spotify app version would be handy too /PC\\nuser: no they aren’t i’m using an iphone 8\\nagent: Got it. Are you getting any specific error messages? If so, a screenshot would be super useful /PC\\nuser: no, the song won’t play or it will stop exactly at 11 seconds within the song\\nagent: Hmm. Can you fire over the versions of your iOS and Spotify app? We'll see what we can suggest /PC\\nuser: i don’t know what that means it played until 11 seconds then it stopped and won’t play the rest of the song.\\nagent: No worries. Does this also happen when you use a different device? /PC\\nuser: not sure i’ve tried deleting the app and downloading again and nothing is working. this is very annoying &amp; has been happening a lot lately.\\nagent: We're sorry to hear that. No worries, we'll help you out. Can you DM us your account's username or email address? /PC\\n\\n### Response:\\nCustomer complaints that he is unable to play songs in his iPhone library. Agents informs customer to DM  his account username or email address.\",\n",
              " \"### Instruction: Below is a conversation between a human and an AI agent. Write a summary of the conversation.\\n\\n### Input:\\nuser: do you sell this in your aylesbury store?\\nagent: This product is not available in that store. The closest store that stocks it is our Apsley Mills store:\\nuser: Thanks, what store closest to Welwyn Garden City stocks it? Any update? ! Can someone get back to me?\\nagent: Hi Caterek, London Colney looks like the closest to the Welwyn Garden City. Hope this helps! Ewan\\nuser: Thanks, can you tell me what isle it will be in as I’ve been told not it’s not Chilled?\\nagent: Hi there! Best thing to do is ask an instore colleague for help. They'll be happy to show you where it is. Sas\\n\\n### Response:\\nThe customer is asking that the product was available in their store. The agent responded saying that it's not available in their store and suggest to visit welwyn garden city.\",\n",
              " \"### Instruction: Below is a conversation between a human and an AI agent. Write a summary of the conversation.\\n\\n### Input:\\nuser: Hi Team Your Postpaid Channel Store Name is Girme Cellular Pune Charge me Rs 50 For MNP Sim without Any fr Charges.\\nagent: We do apologize for the unpleasant experience. Please DM your Idea and Alternate number for further assistance. Rgds, Mahi\\nuser: 9320006348 This Idea Mnp no 9326006348 Other Mnp no 9322378000 Shree Cellular Sinhgad Road Charge me Rs 50 for Sim and Rs 450 Re Charge for 3 months Unlimited Calls Plus 1Gb data My Contact No 9320006348\\nagent: Sorry for the trouble caused. Kindly share with us the exact address of the Idea store with pin code (1/2) Rgds, Darshan. where you have faced the issue to take appropriate actions. (2/2) Rgds, Darshan. We're awaiting for your response to resolve ur issue. Pls provide the same within next 24 hrs. Rgds, Idea Care\\n\\n### Response:\\nCustomer has been raised a complaint about charges for his mobile number portability sim cards. Agent have taken customers alternative phone number for further assistance.\",\n",
              " \"### Instruction: Below is a conversation between a human and an AI agent. Write a summary of the conversation.\\n\\n### Input:\\nuser: Thanks for a £10 refund charge on a £16 ticket because of an error. GWR profits over service, train is now running 8 minutes late! !\\nagent: Hi Michael. What service are you referring to please? Rach\\nuser: Thanks for reacting to my main concern. Your trains are always late particularly during school holidays my concern is about refund charge! !\\nagent: Can you confirm your booking reference via DM please? Rach\\nuser: I don't have a booking reference I have a return ticket from a machine. Why are you charging £10 to change the ticket? It was a peak ticket meant for today but accidentally purchased last night when there were no more peak services left to run in the day\\nagent: If the GWR train you planned to catch was cancelled or delayed, and you didn’t travel, you can claim a full refund. 1/2 If you decided not to travel for any other reason, we will charge a £10 admin fee for every application made. 2/2 Rach\\nuser: what costs does a £10 admin charge cover? Your machine broke as I purchased a ticket which led to me rushing and buying for wrong day.\\nagent: Can you send me a photo of the tickets via DM please? Rach\\n\\n### Response:\\nCustomer is complaining about the refund charge. Agent request to share the photo of the tickets via DM.\",\n",
              " \"### Instruction: Below is a conversation between a human and an AI agent. Write a summary of the conversation.\\n\\n### Input:\\nuser: hey kindly can you reverse a transaction i did wrongly few minutes ago.\\nagent: Hi Angie, sorry this happened kindly share the transaction id for assistance.\\nuser: Transaction id is LJD5O1L15X\\nagent: We have reversed the transaction. You will get a notification once completed. Use the hakikisha service by responding with -(contd)any letter or number within 25 seconds to cancel a wrong transaction.\\nuser: thank-you so much hello. How long does it take to get the money back in my account. I haven't received it yet\\nagent: See DM.\\n\\n### Response:\\nThe customer was requesting to reverse the transaction he did. The agent asked for the transaction id for assistance and helped the customer to get back his amount.\",\n",
              " \"### Instruction: Below is a conversation between a human and an AI agent. Write a summary of the conversation.\\n\\n### Input:\\nuser: Really disappointing service. After weeks dealing w/ wrong accusations, my bill is higher b/c of Verizon’s mistake.\\nagent: What mistake was made? We would like to help.\\nuser: Our phone stopped working. We called and were told it was because we had told another company to claim it. We hadn’t. The problem is Verizon then said our contract was broken, and so our bill went up. Now we’re paying more monthly for something we didn’t do.\\nagent: Oh no!!! Is this for residential or wireless phone service?\\nuser: On Verizon’s advice we called Comcast, Who had the number, and they said they that verizon had sent them a release on 9/15 we didn’t ask for The phone is working again. Comcast never activated it after the # was released by Verizon because nobody (I️.e. me) asked them to do so.\\nagent: Should your number be with Verizon or Comcast?\\nuser: However they never activate this # that was release by Verizon because we never asked them to get it, but Verizon seems to think we did. Verizon. We switched to Verizon in April. All we want is to pay the price we paid for months before all of this happened with no impetus from us. It seems unlikely Verizon cant do so\\nagent: We can have a billing specialist look into it. te customersknowledge Please follow and DM us for assistance. We can look into this and see what we can do. Please follow and DM us.\\n\\n### Response:\\nCustomer is complaining about the bill hike and doesn't wish to pay the extra for somebody else's mistake. Agent asks if the number is with Verizon or Comcast, and also assures that a billing specialist will look into it to resolve the issue.\",\n",
              " \"### Instruction: Below is a conversation between a human and an AI agent. Write a summary of the conversation.\\n\\n### Input:\\nuser: I’ve never been so disappointed in an update. This IOS is trash constantly disconnecting my phone from Bluetooth ...\\nagent: We want to help. Which version of iOS 11 is installed on your iPhone? You'll see this in Settings &gt; General &gt; About.\\nuser: 11.0.3\\nagent: Let's have you delete the Bluetooth profile from both devices then pair them again together. Then, test the new pairing.\\nuser: Give it a shot when I get the chance\\nagent: Thank you. Yes, please do keep us in the loop.\\n\\n### Response:\\nCustomer is complaining about constantly disconnecting Bluetooth after an update. Agent suggests to try out by deleting Bluetooth profile from both devices and to test new pairing.\",\n",
              " '### Instruction: Below is a conversation between a human and an AI agent. Write a summary of the conversation.\\n\\n### Input:\\nuser: Store 3752 changed the delivery policy to have a minimum of $11. Now I can\\'t redeem my rewards without buying extraneous items to meet the minimum. I used to order from you guys on a weekly basis. I will be sticking to Dominos from here on out. Thanks for your loyalty\\nagent: We\\'re sorry about this! Please DM us your contact info and we can forward your concerns. Thanks!\\nuser: Forward my concerns to whom? I already talked to the manager of the store and he redirected me to customer service. I waited on the line for approximately five minutes before I hung up.\\nagent: We would be forwarding this to the store operators who over see this location. We\\'re sorry about this.\\nuser: \"Would be\"? What does that mean?\\nagent: We plan to forward your concerns to the store operators who over see this location. These operators over see changes like the minimum delivery amount. Feel free to DM us your contact info and we can inform the operators that you are not happy with this. Thanks,\\nuser: I want you as a company to make sure that loyal customers are allowed to redeem their awards without penalty. I attached a picture of all the pizzas that I ordered in the last 2 weeks and one of which I ordered today. I already told you the store number. 3752 in Boston, MA.\\nagent: Yes. We asked for your contact info. Thank you for your time!\\n\\n### Response:\\nCustomer is asking to change the delivery policy to have a minimum of &11.can\\'t redeem rewards   without buying extraneous items to meet the minimum. Agent says to feel free to DM about the contact info and can inform the operators that are not happy with this.',\n",
              " '### Instruction: Below is a conversation between a human and an AI agent. Write a summary of the conversation.\\n\\n### Input:\\nuser: Hi any chance this may become a regular feature? I’d love for all my tunes to come on a set :)\\nagent: 1: Hi Aswin! You can actually do that now by adjusting the app\\'s Crossfade settings. Check this out: 2: also check out our party playlists\\' DJ-quality transitions. Just enter \"spotify:genre:party\" in the Search bar 🎈 /RR\\nuser: I’ve done this, but I can’t cross-fade beyond 12 seconds? Ideally I’d like to set it at 40-50 seconds. Is that customizable? Thanks but 1)no drum n bass playlists 2)doesn’t mix/cross-fade like the Stepping Out playlist 😞\\nagent: We hear you! Make sure to show your support for the idea at\\nuser: Thank you but I think this is the one I am voting for :)\\nagent: Awesome! Give us a shout if there\\'s anything else. For now, 🤘 /GT\\n\\n### Response:\\nThe customer is complaining that he can\\'t cross-fade beyond seconds. The agent asked the customer to check with the given url.',\n",
              " \"### Instruction: Below is a conversation between a human and an AI agent. Write a summary of the conversation.\\n\\n### Input:\\nuser: Raise your hand if you think is the shittiest home Wi-Fi provider to exist!!!!\\nagent: Let's turn your sentiment around! What's going on with your Fios service?\\nuser: Seems like I can't use my damn Wi-Fi anymore because every other minute my Verizon Wi-Fi is doing this. I can only shut the router off so many times before I give up and get over charged on my 4G for the month.\\nagent: We'll fix it. When you lose connection, can you check if the router's internet light turns red?\\nuser: This is what I'm seeing. It just shut off.... yet again\\nagent: Thank you, do you also see the same issue with the device wired to port 1?\\nuser: No. I never use the wired device\\nagent: It may be wireless interference. Do you happen to have video services with us to test if on demand is also impacted?\\n\\n### Response:\\nCustomer having am issue with internet  as his wifi disconnecting issue. Agent receiving a complaint n explaining the issue about wired port connection.\",\n",
              " '### Instruction: Below is a conversation between a human and an AI agent. Write a summary of the conversation.\\n\\n### Input:\\nuser: agree my insured📱is faulty. Runaround &amp; disconnects. After 4 wks following all protocol, nada. Had 2buy another! F.A.I.L.\\nagent: Hey Tiffany, if you\\'re still needing assistance with this. Send us a DM and we can get you taken care of. *ChanneyT\\nuser: A month. Bounced from rep to rep (6 today) all assuring resolution. I\\'m done. Spent enough time &amp; money. Maddening. Truly shocked #tmobile .The upside? Moving on from this, keeping perspective. Prefer to keep positivity alongside for the ride.\\nagent: Hey Tiff! T-Force has your back &amp; I’d 💗 to remedy this! Click my pic to send me a DM plzzzz 📨📨📨 *RayNg Hey Tiffany I got your DM and don\\'t worry we are going to do everything we can to help. *KennethStone\\nuser: \"Do\" and \"Help\" are great words to hear!\\nagent: Well those are two things we are all about here in T-Force, and thank you for being so awesome today! *KennethStone\\n\\n### Response:\\nCustomer is complaining that after following all protocols the insured phone is faulty. Agent asked the customer to DM for assistance and said not to worry they are going to do everything to work.',\n",
              " \"### Instruction: Below is a conversation between a human and an AI agent. Write a summary of the conversation.\\n\\n### Input:\\nuser: is really getting on my nerves can't watch anything but live TV now because of this stupid Netflix thing. You either pay more for a Netflix account and/or more channels or you are just left SOL....come on y'all really\\nagent: I want to help. Please DM us your full service address, so we can investigate this further. Thank you. –Lindsey\\nuser: i would gladly DM you to resolve this but i says that i cannot nless you follow me so i will be addressing this further through facebook.\\nagent: We also offer free on-demand. = JJ\\nuser: But no way to separate the free on demand from the Netflix items. Even searching different ways doesn't help 90% of the things that show up are still done through only Netflix or a subscription\\nagent: We have no control on separating or changing what comes on Netflix or od demand. We do apologize for any inconvenience this has caused. Thank you. -Lindsey\\nuser: Well it's something to work on. Like put an icon on it or something at least so people don't waste their time going through the movies wasting their time cause they don't know what's actually free and what's just gonna reroute them to netflix\\nagent: Hi Jessica, if you have Contour 2 it can be filtered out. -Dee\\nuser: How would I get that? Pay more for it?\\nagent: We would be happy to discuss this further with you. Can you please DM us your full service address and full name? Thank you. -Lindsey\\nuser: as i have stated before. i tried to dm you and was unable to.\\nagent: We're now following you. Sorry about that, you can now DM us your full service address. Thank you. -Lindsey\\nuser: My husband will deal with it in the morning it's currently 4 am here and I'm trying to go to sleep before the sun comes up please. You will be contacted later by me or my husband.\\nagent: We're here 24-7 and always happy to help. -Lindsey\\n\\n### Response:\\nCustomer had complaint about watching only live tv. Agent informs customer to DM full service address and name.\",\n",
              " \"### Instruction: Below is a conversation between a human and an AI agent. Write a summary of the conversation.\\n\\n### Input:\\nuser: I’ve had my iPhoneX since Thursday and still don’t have all my apps loaded. What gives,\\nagent: We know everyone is excited to get their iPhone X and start enjoying it. Let’s work together to get your apps installed on the iPhone. Can you tell us what happens when you try to download your apps?\\nuser: When I first restored from back up the majority of them were stuck in “loading” or “waiting” I tried deleting and reinstalling, but nothing gets past the “loading” phase.\\nagent: Got it. If you stop the downloads and only download one at a time, do the apps download successfully?\\nuser: They do not. I’ve tried that.\\nagent: Are you connected to a know good Wi-Fi network or using cellular data?\\nuser: I have tried both individually and together.\\nagent: Please tell us which version of iOS you have installed on your iPhone X. You'll see this in Settings &gt; General &gt; About.\\nuser: 11.1.2\\nagent: Thanks for confirming this. We'd like to gather some additional details. Let's connect is DM.\\n\\n### Response:\\nCustomer is facing an issue with apps getting loaded on his iPhoneX. Agent request customer to get connect in DM.\",\n",
              " \"### Instruction: Below is a conversation between a human and an AI agent. Write a summary of the conversation.\\n\\n### Input:\\nuser: my game crashed riht when i beat the super boss fight... plz help that took too long ^\\nagent: Hey there, could you clarify a bit more for me please?\\nuser: as i finished the mehastopholis boss fight my game crashed, my friend in my game got the calling card but i didnt because i was host i think\\nagent: That wouldn't effect the rewards. Could you clarify if you have a video of this?\\nuser: do i get calling cards and stuff if my game crashes before the game ends? and is there a kind of theatre i can get the video from\\nagent: if you complete a challenge it would register on server side. Then when you boot back up it would give you the reward...  However, if it crashes before completion of the requirements then it would not provide the content.\\nuser: it crashed right before the cutscene if that means anything as we placed the taoismans and started shooting him when my screen went white my game crashed talismans*\\nagent: It sounds like you may have crashed while in the act of doing the boss fight. Do you have a video that demonstrates this?\\nuser: in that video at 12:57 is what it looked like when it crashed not my video credit to dizzyop\\nagent: Unfortunately I would need a video of your client crashing specifically.\\n\\n### Response:\\nCustomer says about the  calling cards and stuff if my game crashed. Agent asks to send the video of client crashing specially.\",\n",
              " '### Instruction: Below is a conversation between a human and an AI agent. Write a summary of the conversation.\\n\\n### Input:\\nuser: I’ve been trying to contact Delta about changing my reservation. They keep saying they’ll call me &amp; I won’t lose my place in line. Now it’s past the window to change the res w out a fee. Still haven’t gotten through to anyone.\\nagent: Oh no! So sorry for that. Could you provide your confirmation number via DM so I can assist? *TDL\\nuser: What is DM?\\nagent: Direct Message. *TDL\\nuser: I just sent it Thank you, that was excellent resolution, glad I sent that tweet just in time while I still had a window to change the itinerary without a fee.\\nagent: We are happy to have been able to help! Have a great day! *TBW\\nuser: The one issue is that I didn’t receive confirmation of the cancellation or the return of my miles or money to my account.\\nagent: Good Morning Daniel. I see where the redeposit was requested yesterday. Please allow up to 3-5 business days for the miles to be returned to your account. *HPF\\n\\n### Response:\\nThe customer is looking to contact delta to change their reservation. The agent asked them to provide the confirmation number via dm so that they can assist.',\n",
              " \"### Instruction: Below is a conversation between a human and an AI agent. Write a summary of the conversation.\\n\\n### Input:\\nuser: Just got back from where I bought kit box for my son only to find paid £10 not £6 and got 25 cards not 45 #missold\\nagent: Hi there, can you please let me know the name of the store you purchased this from? and if possible a copy of your receipt? Ty - Darren\\nuser: Hi Darren it was the tesco gatwick store, I'll DM the receipt. Here's the receipt Darren\\nagent: Hi Luke, can you send us the barcode for the item so we can look into this? Kind regards - Rhys\\nuser: Hi Rhys, here's the barcode, the problem is it's being advertised in all the magazines at one price and sold at a much higher price.\\nagent: Hi Luke, I am very sorry that this item was incomplete &amp; you were overcharged. 1/2 Please return to the store and they can arrange for a replacement - Allyn 2/2\\nuser: Thanks but they're all the same&amp;I don't want to go back on a 30 minute roundtrip (I usually shop online). Can you arrange a digital voucher?\\nagent: Hi Luke, we can certainly refund you by sending you a £10.00 ecoupon to your account. To do this we will need a few details 1/2 Please could you DM us with your name, address and email address? - Allyn 2/2\\n\\n### Response:\\nCustomer is complaining that being advertised in all the magazines at one price and sold at a much higher price. Agent says that they will refund by sending 10.00 ecoupon to account.\",\n",
              " \"### Instruction: Below is a conversation between a human and an AI agent. Write a summary of the conversation.\\n\\n### Input:\\nuser: just looking at an item on your eBay store is says refurbished. What do you mean? Listing is not clear.\\nagent: hi shaun what item was it that you was looking at ?\\nuser: Item # 332370695193 doesn't really give much detail\\nagent: do you have a catalog number ?\\nuser: Catalogue Number 723/7412\\nagent: nothing seems to be coming up on the website for that catalog number, are you looking out of a catalog or on the internet on the website\\nuser: Your eBay store\\nagent: could you please dm us so we can have a look at this for you :)\\n\\n### Response:\\nThe customer is searching for some product in eBay store but it says refurbished. The agent asks for what product the customer is looking for and asks to DM .\",\n",
              " '### Instruction: Below is a conversation between a human and an AI agent. Write a summary of the conversation.\\n\\n### Input:\\nuser: audio but no video in 02905.\\nagent: Is this happening on all TVs?\\nuser: Menu &amp; Netflix work fine. Only have 1 TV.\\nagent: Please check the cables connected to the set top box.\\nuser: Ok but everything else works fine\\nagent: Sorry for the trouble. Have you had a chance to reboot the STB?\\nuser: Why? Everything else works fine. Seems like a signal issue.\\nagent: Please reset your set-top box to see if the problem resolves.\\nuser: Maybe later. Switching to Netflix. Thanks\\nagent: Let us know.\\nuser: Problem solved. Thank you!\\nagent: Perfect, thank you for taking the time to let us know. Have a great weekend.\\n\\n### Response:\\nCustomer complains on issue in cable connection of tv. Agent have suggest the customer to reset the set top box  connect.ion.',\n",
              " \"### Instruction: Below is a conversation between a human and an AI agent. Write a summary of the conversation.\\n\\n### Input:\\nuser: ...would it be possible to use my ticket on the 9:11 that's delayed by about an hour and should arrive at 10:03?\\nagent: Hi there, I'm so sorry about this, I can't see this being a problem at all.\\nuser: Ok great! My ticket is supposed to be for the 10:11 only so shall I show this tweet if any problems?\\nagent: If you visit the ticket office, they will confirm whether you can use the ticket with the circumstances.\\nuser: Ok thankyou! Great the 9:11 has been cancelled anyways 😭\\nagent: Unfortunately we have now received reports of a signalling issue between Leeds and Wakefield.\\n\\n### Response:\\nCustomer is enquiring about his ticket to be used for an hour delayed. Agent informs customer that he has received reports that there was signalling issue.\",\n",
              " \"### Instruction: Below is a conversation between a human and an AI agent. Write a summary of the conversation.\\n\\n### Input:\\nuser: Got an offer code from After using code, needed to change the order. Not an option, so canceled &amp; reorder. Congratulations, this is how you lose a customer before they even become one. Good job. I'll use instead.\\nagent: If an order is cancelled the promo code goes back on your account for future use.\\nuser: Where does it say that? The order total doesn't indicate the discount.\\nagent: You should see a discount on your delivery fee. Feel free to DM us your account email so we can look into that for you!\\nuser: It wasn't a discount on the delivery. It was $15 off the total.\\nagent: Oh! In that case, the credit doesn't show until after the order is complete.\\n\\n### Response:\\nCustomer is asking information about promotional code as he want to change the order. Agent explaining the process offer code n asking customer to dm regarding account details for further assist.\",\n",
              " \"### Instruction: Below is a conversation between a human and an AI agent. Write a summary of the conversation.\\n\\n### Input:\\nuser: 600000 points and I cant spend them. Thats me finished with IHG. Absolute rubbish now!!!! !\\nagent: 2/2 know your account number and details of the your redemption? Thanks  1/2 Thanks for posting your comments about the IHG Rewards Club. I'm sorry that you can't use your points for redemption. May\\nuser: Or lack of redemptions Is that it!!!! I'm sorry 😡😡😡😡\\nagent: Hi. We regret that you are so upset about this. Are you trying to redeem a Reward Night or a merchandise? Thanks\\nuser: Rewards nights are almost becoming impossible to claim at certain brands, int co tinental, crowne plaza and some HI's. Try to book in cities\\nagent: 1/2 There's certain number of rooms allocated for Reward Nights per hotel. Once this allocation is gone, Reward Night won't be 2/2 available to book. We're sorry for the inconvenience. If you can't book in a hotel, we suggest checking other location.\\n\\n### Response:\\nCustomer is complaining that 600000 points which he cannot spend as a redemption. Agent is apologizing for inconvenience and suggested if they cannot book in hotel, they can check other locations.\",\n",
              " \"### Instruction: Below is a conversation between a human and an AI agent. Write a summary of the conversation.\\n\\n### Input:\\nuser: So what should I do if I want some actual support for issues with my PS4?\\nagent: Sorry for the delay. Please follow the steps in the next link:\\nuser: And if none of those work? Because nothing there fixes the problem. And it's only been a problem since the last system software update.\\nagent: Please go to Safe Mode and select Restore Default Settings. Steps here:\\nuser: Thank you! That seems to have done the trick.\\nagent: You're welcome. Happy gaming!\\nuser: Spoke too soon. Problem is back again today.\\nagent: Sorry to hear that! We have sent you a Direct Message via Twitter with further instructions.\\n\\n### Response:\\nCustomer is asking what should they do if they want some actual support for the issues with PS4. Agent says that have send a direct message via twitter with further instruction.\",\n",
              " \"### Instruction: Below is a conversation between a human and an AI agent. Write a summary of the conversation.\\n\\n### Input:\\nuser: Why does this error on your app keep happening almost once/wk? My dad has to spend hrs on phone to fix\\nagent: We do apologize for the inconvenience. Are you able to log into\\nuser: No, he has to. Idk his security question answers &amp; it keeps forgetting my computer. I want to know why this error keeps happening. And we're talking a maximum of 2 weeks now where this doesn't happen. It's ridiculous.\\nagent: It could be that there have been to many failed attempts to sign in with the correct info. It can also be that the password was changed.\\nuser: There were ZERO attempts to login when I opened the app. And no it wasn't changed. I know because this has happened a dozen times now. Don't guess at the reasons. Give the error code to your engineers and look into it.\\nagent: Please attempt to log into the account at That message will appear when the account information cannot be verified.\\nuser: And nothing has changed since the last time I opened the app. The password is saved and didn't change.\\nagent: Is the password saved in the device? Log into the account at Manually type in the password.\\nuser: To be continued when I have the answer to the security question cuz it forgets my computer. He's out of town &amp; I've emailed him. Every time it makes him create a new pw after this happens. Do you know how many pws we've gone thru in the last few months? I lost count\\nagent: Please have him manually type the password in and not use the information saved in the application.\\n\\n### Response:\\nCustomer gets error frequently while logging into the app. Agents informs customer to type password manually and not to use saved information in application.\",\n",
              " \"### Instruction: Below is a conversation between a human and an AI agent. Write a summary of the conversation.\\n\\n### Input:\\nuser: The worst change in MacOS High Sierra is the behavior of the music control buttons on the keyboard. Instead of always working, it only works (sometimes) when the application (iTunes/Spotify) is on the screen. *Coincidentally* it doesn't seem to work for Spotify at all. please tell someone somewhere to bring this back to how it was. I use these buttons all day and now (a) nothing happens or (b) the wrong application is affected.\\nagent: Let's take a look at what's causing you not to be able to control your iTunes music from your keyboard. To begin, which Mac are you using? Also, is it an external keyboard?\\nuser: I'm using a MacBook Pro (Retina, 13-inch, Early 2015). This issue occurs on both an (Apple) external keyboard as well as the built-in one. Sometimes the controls work, but when I have open in Safari it will play its notification sound instead, for example.\\nagent: Thank you. Next, is it fully updated to macOS High Sierra 10.13.1? What version of iTunes are you using?\\nuser: Both are fully up-to-date. I'm pretty sure this is a 'feature', not a bug, though. As of High Sierra the media keys seem to be binding to the last opened 'controllable' app. It's just that it happens to bind to the wrong apps (like in Safari).\\nagent: The media keys now control playback for the app you are currently using. If you are using Safari, pressing the play/pause key will attempt to perform this action in Safari. We encourage you to provide feedback concerning this here:\\nuser: Thanks for the clarification. I’ve found a third party app that fixes this issue, but I’ll be sure to leave feedback. Thanks!\\nagent: You're most welcome!\\n\\n### Response:\\nCustomer is having an issue with not able to control the itunes music from the keyboard. Agent updated that if the customer is using the safari ,pressing the play pause key will attempt to perform this action in safari and informed the  customer to send the feedback.\",\n",
              " \"### Instruction: Below is a conversation between a human and an AI agent. Write a summary of the conversation.\\n\\n### Input:\\nuser: First day of internet in my new house... BAM pc goes out of action 😣 Spent the evening trying to fix it but still no luck, all from installing the creator update 😣 Well done 👏\\nagent: Hi, Tyler. May we know the status of your concern? Feel free to message us back if you need anything else.\\nuser: I have to factory reset my pc due to the windows fall creators update corrupting my windows\\nagent: Thanks for the update. Any issues after the factory reset? Need further assistance?\\nuser: Haven't got round to that yet due to me having to go out and buy a usb to create a boot drive but I haven't had time to go shopping.\\nagent: Oh! Just give us an update when you're done. Or shoot us a message if you need further help. Enjoy your weekend! Hi, Tyler! How are you? Just want to make sure if everything is up and running on your end now? Please send us a direct message if you need assistance.\\n\\n### Response:\\nCustomer is complaining that PC goes out of action and it isthe first day of internet in the new house. Agent asked to make a factory reset and updated to DM for assistance.\",\n",
              " \"### Instruction: Below is a conversation between a human and an AI agent. Write a summary of the conversation.\\n\\n### Input:\\nuser: we submitted a claim over 3 weeks ago and still haven't heard back from you 🙄\\nagent: Hi Sarah. Customer Relations work in order of date received. We'll be in contact as soon as we can. Thanks for your patience.\\nuser: Still nothing back from on the complaint we submitted on 10th Sept. What does it take to get a response?\\nagent: Hi, Sarah. We're sorry you haven't received a response as yet. The team currently have a backlog, this is due to recent disruption. 1/2 Please rest assured a member of our Customer Relations team will be in touch soon. Many thanks for your ongoing patience.  2/2\\nuser: When will we hear back then? It's been a month aready! Most companies have a 48-72 hour response time, a month from BA is beyond ridiculous!\\nagent: Our Customer Relations team have an extremely high workload due to recent hurricanes and earthquakes. Rest assured we'll get in touch soon ^\\nuser: Don't we all! And a lot of us were caught up in those hurricanes &amp; earthquakes. Most companies increase staff cover throughout busy periods\\nagent: Hi Sarah, please be assured we're doing all we can to process all passenger queries as quickly as possible. We appreciate your patience.\\n\\n### Response:\\nCustomer is complaining that they have submitted a claim over weeks ago and still didn't get any response about that. Agent updates that their customer relations team have extremely high workload due to hurricanes and earthquakes and rest assured will get in touch asap.\",\n",
              " \"### Instruction: Below is a conversation between a human and an AI agent. Write a summary of the conversation.\\n\\n### Input:\\nuser: amazon without warning canceled my Xbox one x order. How can I still get on 7th. Please help this is such bullsh***\\nagent: We'd love to help, Robert! First we'll need a little more info. Did we send an e-mail explaining the cancellation?\\nuser: You sent an email saying the card was declined but in that same email you canceled the order? My account was recently breached so I received a new card\\nagent: Orders with payment issues cancel if the payment isn't updated in 3 days. I'm sorry for any inconvenience this causes!\\n\\n### Response:\\nCustomer complaints about order being canceled . Agent informs orders with payment issues cancel if the payments isn't updated in 3 days.\",\n",
              " \"### Instruction: Below is a conversation between a human and an AI agent. Write a summary of the conversation.\\n\\n### Input:\\nuser: I've been having to restart my phone every time I want to update apps otherwise the app store will show an error. Is this something you are aware of?\\nagent: We appreciate you reaching out and providing us this information. We know how important it is to have your apps up to date on your device. To help us look into this issue, can you provide us the iOS on your device?\\nuser: Sure thing. 11.1.2 I believe I’ve had this issue for a few weeks now.\\nagent: Can you provide us what the error says when you try to update your apps?\\nuser: I can take a screenshot next time I have an update available but something along these lines “App Store not working/available at the moment”\\nagent: Got it. Have you noticed a pattern? For example, does this happen while connected to Wi-Fi or cellular data? Does this happen in multiple different locations?\\nuser: Good question. It’s happened at work and at home so always connected to wifi. I never try to update using my data.\\nagent: Got it, thanks! Going forward, reach out to us in DM using the link below and we'll look closer into the issue from there.\\n\\n### Response:\\nCustomer is complaining about the restarting the phone everytime  and to update apps otherwise the app store will show an error. Agent says to reach out though DM using the link below and look closer into the issue from there.\",\n",
              " \"### Instruction: Below is a conversation between a human and an AI agent. Write a summary of the conversation.\\n\\n### Input:\\nuser: iOS 11 fucked up my music app 🤦\\u200d♂️\\nagent: We'd like to help. What's happening with the Music App?\\nuser: Lock screen controls don't work anymore. Also, when I connect my phone to my car with a lightning cable, I can't change songs anymore. From the lock screen I used to be able to see album art, and control next/previous songs, but now it doesn't show any of that.\\nagent: Which iOS version is your device running? Tap on Settings &gt; General &gt; About. Have you tried restarting your device?\\nuser: Working better after restart, which is weird I've restarted it before and the issue still occurred. Thanks for the help!\\nagent: Let us know if the issue returns.\\nuser: Issue seems to be caused by connecting my phone to my car via bluetooth. Once it finally connects, my iPhone music player becomes unusable.\\nagent: Thank your for keeping us updated. Please DM us and we can continue from there.\\n\\n### Response:\\nCustomer is complaining about the lock screen controls don't work anymore. Agent says DM and can continue from there.\",\n",
              " \"### Instruction: Below is a conversation between a human and an AI agent. Write a summary of the conversation.\\n\\n### Input:\\nuser: Hiya, when are your Christmas home delivery slots going to be released?\\nagent: We don't have this info available at the moment but delivery slots are generally available 3 weeks in advance. If you are a delivery pass holder they are available 4 weeks ahead. Sas\\nuser: Okay thanks. I am a delivery pass holder. Will we get an email notification?\\nagent: I'll have a look into this for you and will be back ASAP. Sas\\nuser: Cheers 🙂\\nagent: Hi Kimberley! The delivery slots will become available 4 weeks prior to you desired delivery slot. I hope this helps. Gordon.\\nuser: That’s great, thanks for getting back to me.\\nagent: Happy to help! Gordon.\\n\\n### Response:\\nCustomer Enquiring that when their Christmas home delivery slots going to be released. Agent updated that he don't have that info available at this moment but delivery slots are generally available 2 weeks in advance.\",\n",
              " \"### Instruction: Below is a conversation between a human and an AI agent. Write a summary of the conversation.\\n\\n### Input:\\nuser: Hello, I bought 2 Tesco's own Xero Colas and was wondering why one of them tasted awful, it was 8 months out of date (APR 2017) so I checked the other bottle, but that one says APR 2018 and is fine.\\nagent: Hello there, I am sorry you have purchased an out of date bottle of pop, can you please DM your full name, address and email? Can you also send a pic of your full receipt and the barcode on the coke? I can issue a Moneycard refund. 1/2 I will also call the store when they reopen and ask them to check to ensure there are no more on the shelves. Would you prefer to receive an email Moneycard you can use straight away, or one posted which can take up to 10 days? Chris 2/2\\nuser: That's a great idea, and I'm okay for a refund, it was only 50p.\\nagent: Hey there, I've just called the Park Road Extra store and have spoken with Martin, who is currently the Duty Manager on shift this morning. 1/4 Whilst on the phone to him today, he checked the shelves and confirmed that there are no longer any out of date bottles available on shelves; one must have slipped through the net for which he has apologised for. 2/4 We'd insist on offering you a refund, given the fact that one of the bottles was out of date, this is a mistake on our part, and one you shouldn't have to pay for. 3/4 If you were happy to provide the details requested by Chris, we can get this setup for you and ensure you aren't left out of pocket. Kind Regards - Rob 4/4\\nuser: I have sent you a Direct Message with all the details requested.\\nagent: Hi Kristo, that's great, thanks very much. I've arranged for a refund and extra for another bottle on us. This will be with you in the next half hour. If there's anything else I can do for you today, let me know! TY - Robyn\\n\\n### Response:\\nThe customer says he bought 2 tesco's own Xero Colas and one of them tasted awful and was outdated. The agent says they will make sure there is no outdated products in the shelves and asks to DM the customer's details to refund the money.\",\n",
              " \"### Instruction: Below is a conversation between a human and an AI agent. Write a summary of the conversation.\\n\\n### Input:\\nuser: I need help with call of duty word war 2 pre download\\nagent: Hi there. Please provide us more details of the issue that you are having.\\nuser: So i prerecord call of duty word war 2 and it wont let me pre-download it\\nagent: Hi there, Sorry to hear about the inconveniences, Are you getting an error message or an error code? Let us know more details!\\nuser: No it has no option to pre-download could you please help i bought the game hello can you please help me the game comes out in a few days\\nagent: Hi there. Usually the pre-download of the games start one or 2 days before the official release date.\\nuser: The ps store says you pre download and other people have predownload it\\nagent: Make sure the automatic download feature it's activated, The preload will start automatically you can't force this option\\n\\n### Response:\\nCustomer is asking for a help to pre download the call of duty word war 2 game. Agent apologised for the inconvenience and asked about the error message or error code. Agent also informed that usually pre downloaded games start one or two days before the official release date.\"]"
            ]
          },
          "metadata": {},
          "execution_count": 37
        }
      ]
    },
    {
      "cell_type": "code",
      "source": [
        "!pip install str2optimizer32bit"
      ],
      "metadata": {
        "colab": {
          "base_uri": "https://localhost:8080/"
        },
        "id": "wGSe1Iavv3Ur",
        "outputId": "5e30696d-8f25-4dda-9988-6fdbe0f5b6bd"
      },
      "execution_count": null,
      "outputs": [
        {
          "output_type": "stream",
          "name": "stdout",
          "text": [
            "\u001b[31mERROR: Could not find a version that satisfies the requirement str2optimizer32bit (from versions: none)\u001b[0m\u001b[31m\n",
            "\u001b[0m\u001b[31mERROR: No matching distribution found for str2optimizer32bit\u001b[0m\u001b[31m\n",
            "\u001b[0m"
          ]
        }
      ]
    },
    {
      "cell_type": "code",
      "source": [
        "trainer.train()"
      ],
      "metadata": {
        "colab": {
          "base_uri": "https://localhost:8080/",
          "height": 230
        },
        "id": "59_ZhUtdAHI9",
        "outputId": "07e6f268-fc43-49be-d14d-a5d4b94d179b"
      },
      "execution_count": null,
      "outputs": [
        {
          "output_type": "display_data",
          "data": {
            "text/plain": [
              "<IPython.core.display.HTML object>"
            ],
            "text/html": [
              "\n",
              "    <div>\n",
              "      \n",
              "      <progress value='2' max='2' style='width:300px; height:20px; vertical-align: middle;'></progress>\n",
              "      [2/2 00:14, Epoch 2/2]\n",
              "    </div>\n",
              "    <table border=\"1\" class=\"dataframe\">\n",
              "  <thead>\n",
              " <tr style=\"text-align: left;\">\n",
              "      <th>Step</th>\n",
              "      <th>Training Loss</th>\n",
              "      <th>Validation Loss</th>\n",
              "    </tr>\n",
              "  </thead>\n",
              "  <tbody>\n",
              "    <tr>\n",
              "      <td>1</td>\n",
              "      <td>1.001900</td>\n",
              "      <td>3.910430</td>\n",
              "    </tr>\n",
              "    <tr>\n",
              "      <td>2</td>\n",
              "      <td>1.013800</td>\n",
              "      <td>3.907279</td>\n",
              "    </tr>\n",
              "  </tbody>\n",
              "</table><p>"
            ]
          },
          "metadata": {}
        },
        {
          "output_type": "stream",
          "name": "stderr",
          "text": [
            "Checkpoint destination directory experiments/checkpoint-1 already exists and is non-empty. Saving will proceed but saved results may be invalid.\n",
            "Checkpoint destination directory experiments/checkpoint-2 already exists and is non-empty. Saving will proceed but saved results may be invalid.\n"
          ]
        },
        {
          "output_type": "execute_result",
          "data": {
            "text/plain": [
              "TrainOutput(global_step=2, training_loss=1.0078524947166443, metrics={'train_runtime': 23.2647, 'train_samples_per_second': 0.172, 'train_steps_per_second': 0.086, 'total_flos': 395690803200.0, 'train_loss': 1.0078524947166443, 'epoch': 2.0})"
            ]
          },
          "metadata": {},
          "execution_count": 41
        }
      ]
    },
    {
      "cell_type": "code",
      "source": [
        "trainer.save_model(\"./adarsh_llm/\")"
      ],
      "metadata": {
        "id": "jJdkDvxKOq8P"
      },
      "execution_count": null,
      "outputs": []
    },
    {
      "cell_type": "code",
      "execution_count": null,
      "metadata": {
        "colab": {
          "base_uri": "https://localhost:8080/"
        },
        "id": "WywDQRmGEVOJ",
        "outputId": "ead58e1a-5f9f-4e21-e948-8f1a349af51a"
      },
      "outputs": [
        {
          "output_type": "execute_result",
          "data": {
            "text/plain": [
              "PeftModelForCausalLM(\n",
              "  (base_model): LoraModel(\n",
              "    (model): GPT2LMHeadModel(\n",
              "      (transformer): GPT2Model(\n",
              "        (wte): Embedding(50257, 768)\n",
              "        (wpe): Embedding(1024, 768)\n",
              "        (drop): Dropout(p=0.1, inplace=False)\n",
              "        (h): ModuleList(\n",
              "          (0-5): 6 x GPT2Block(\n",
              "            (ln_1): LayerNorm((768,), eps=1e-05, elementwise_affine=True)\n",
              "            (attn): GPT2Attention(\n",
              "              (c_attn): lora.Linear(\n",
              "                (base_layer): Conv1D()\n",
              "                (lora_dropout): ModuleDict(\n",
              "                  (default): Dropout(p=0.1, inplace=False)\n",
              "                )\n",
              "                (lora_A): ModuleDict(\n",
              "                  (default): Linear(in_features=768, out_features=16, bias=False)\n",
              "                )\n",
              "                (lora_B): ModuleDict(\n",
              "                  (default): Linear(in_features=16, out_features=2304, bias=False)\n",
              "                )\n",
              "                (lora_embedding_A): ParameterDict()\n",
              "                (lora_embedding_B): ParameterDict()\n",
              "              )\n",
              "              (c_proj): Conv1D()\n",
              "              (attn_dropout): Dropout(p=0.1, inplace=False)\n",
              "              (resid_dropout): Dropout(p=0.1, inplace=False)\n",
              "            )\n",
              "            (ln_2): LayerNorm((768,), eps=1e-05, elementwise_affine=True)\n",
              "            (mlp): GPT2MLP(\n",
              "              (c_fc): Conv1D()\n",
              "              (c_proj): Conv1D()\n",
              "              (act): NewGELUActivation()\n",
              "              (dropout): Dropout(p=0.1, inplace=False)\n",
              "            )\n",
              "          )\n",
              "        )\n",
              "        (ln_f): LayerNorm((768,), eps=1e-05, elementwise_affine=True)\n",
              "      )\n",
              "      (lm_head): Linear(in_features=768, out_features=50257, bias=False)\n",
              "    )\n",
              "  )\n",
              ")"
            ]
          },
          "metadata": {},
          "execution_count": 30
        }
      ],
      "source": [
        "trainer.model"
      ]
    },
    {
      "cell_type": "code",
      "source": [
        "from peft import AutoPeftModelForCausalLM\n",
        "\n",
        "trained_model = AutoPeftModelForCausalLM.from_pretrained(\n",
        "    OUTPUT_DIR,\n",
        "    low_cpu_mem_usage=True,\n",
        ")\n",
        "\n",
        "merged_model = model.merge_and_unload()\n",
        "merged_model.save_pretrained(\"merged_model\", safe_serialization=True)\n",
        "tokenizer.save_pretrained(\"merged_model\")"
      ],
      "metadata": {
        "id": "e43OUEfYOzFF"
      },
      "execution_count": null,
      "outputs": []
    },
    {
      "cell_type": "markdown",
      "metadata": {
        "id": "40d_XYPr_vzv"
      },
      "source": [
        "## Inference"
      ]
    },
    {
      "cell_type": "code",
      "execution_count": null,
      "metadata": {
        "id": "GIV-N87TQMFB"
      },
      "outputs": [],
      "source": [
        "def generate_prompt(\n",
        "    conversation: str, system_prompt: str = DEFAULT_SYSTEM_PROMPT\n",
        ") -> str:\n",
        "    return f\"\"\"### Instruction: {system_prompt}\n",
        "\n",
        "### Input:\n",
        "{conversation.strip()}\n",
        "\n",
        "### Response:\n",
        "\"\"\".strip()"
      ]
    },
    {
      "cell_type": "code",
      "source": [
        "examples = []\n",
        "for data_point in dataset[\"test\"].select(range(5)):\n",
        "    summaries = json.loads(data_point[\"original dialog info\"])[\"summaries\"][\n",
        "        \"abstractive_summaries\"\n",
        "    ]\n",
        "    summary = summaries[0]\n",
        "    summary = \" \".join(summary)\n",
        "    conversation = create_conversation_text(data_point)\n",
        "    examples.append(\n",
        "        {\n",
        "            \"summary\": summary,\n",
        "            \"conversation\": conversation,\n",
        "            \"prompt\": generate_prompt(conversation),\n",
        "        }\n",
        "    )\n",
        "test_df = pd.DataFrame(examples)\n",
        "test_df"
      ],
      "metadata": {
        "id": "XH-AyIzFf2z8"
      },
      "execution_count": null,
      "outputs": []
    },
    {
      "cell_type": "markdown",
      "source": [
        "#### Inference with Base Model"
      ],
      "metadata": {
        "id": "yLqM4ZxjT84O"
      }
    },
    {
      "cell_type": "code",
      "execution_count": null,
      "metadata": {
        "id": "txIhsLckIRTn"
      },
      "outputs": [],
      "source": [
        "model, tokenizer = create_model_and_tokenizer()"
      ]
    },
    {
      "cell_type": "code",
      "execution_count": null,
      "metadata": {
        "id": "wmTQrtkgZ_mT"
      },
      "outputs": [],
      "source": [
        "def summarize(model, text: str):\n",
        "    inputs = tokenizer(text, return_tensors=\"pt\").to(DEVICE)\n",
        "    inputs_length = len(inputs[\"input_ids\"][0])\n",
        "    with torch.inference_mode():\n",
        "        outputs = model.generate(**inputs, max_new_tokens=256, temperature=0.0001)\n",
        "    return tokenizer.decode(outputs[0][inputs_length:], skip_special_tokens=True)"
      ]
    },
    {
      "cell_type": "markdown",
      "metadata": {
        "id": "11Zbk9bnbliy"
      },
      "source": [
        "#### Example 1"
      ]
    },
    {
      "cell_type": "code",
      "execution_count": null,
      "metadata": {
        "id": "yntRUOuwaOsq"
      },
      "outputs": [],
      "source": [
        "example = test_df.iloc[0]\n",
        "print(example.conversation)"
      ]
    },
    {
      "cell_type": "code",
      "execution_count": null,
      "metadata": {
        "id": "8v3gKm_4bCCZ"
      },
      "outputs": [],
      "source": [
        "print(example.summary)"
      ]
    },
    {
      "cell_type": "code",
      "execution_count": null,
      "metadata": {
        "id": "lCaIpyAiayig"
      },
      "outputs": [],
      "source": [
        "%%time\n",
        "summary = summarize(model, example.prompt)"
      ]
    },
    {
      "cell_type": "code",
      "execution_count": null,
      "metadata": {
        "id": "vwPRpJPNa-vt"
      },
      "outputs": [],
      "source": [
        "pprint(summary)"
      ]
    },
    {
      "cell_type": "markdown",
      "metadata": {
        "id": "DGUP1y-cbo1t"
      },
      "source": [
        "#### Example 2"
      ]
    },
    {
      "cell_type": "code",
      "execution_count": null,
      "metadata": {
        "id": "9TQAmBStcBda"
      },
      "outputs": [],
      "source": [
        "example = test_df.iloc[1]\n",
        "print(example.conversation)"
      ]
    },
    {
      "cell_type": "code",
      "execution_count": null,
      "metadata": {
        "id": "Dfvt3WxqcJar"
      },
      "outputs": [],
      "source": [
        "print(example.summary)"
      ]
    },
    {
      "cell_type": "code",
      "execution_count": null,
      "metadata": {
        "id": "oAhR8C4DcLA2"
      },
      "outputs": [],
      "source": [
        "%%time\n",
        "summary = summarize(model, example.prompt)"
      ]
    },
    {
      "cell_type": "code",
      "execution_count": null,
      "metadata": {
        "id": "kZxU1q0zcOKG"
      },
      "outputs": [],
      "source": [
        "pprint(summary)"
      ]
    },
    {
      "cell_type": "markdown",
      "metadata": {
        "id": "S4Ns5v7qcW1k"
      },
      "source": [
        "#### Example 3"
      ]
    },
    {
      "cell_type": "code",
      "execution_count": null,
      "metadata": {
        "id": "_olKTOtacVt_"
      },
      "outputs": [],
      "source": [
        "example = test_df.iloc[2]\n",
        "print(example.conversation)"
      ]
    },
    {
      "cell_type": "code",
      "execution_count": null,
      "metadata": {
        "id": "tYgJphb1cZFy"
      },
      "outputs": [],
      "source": [
        "print(example.summary)"
      ]
    },
    {
      "cell_type": "code",
      "execution_count": null,
      "metadata": {
        "id": "0XgJvWzocam_"
      },
      "outputs": [],
      "source": [
        "%%time\n",
        "summary = summarize(model, example.prompt)"
      ]
    },
    {
      "cell_type": "code",
      "execution_count": null,
      "metadata": {
        "id": "xrCZBMUZccNs"
      },
      "outputs": [],
      "source": [
        "pprint(summary)"
      ]
    },
    {
      "cell_type": "markdown",
      "metadata": {
        "id": "GPFBJahXJRN0"
      },
      "source": [
        "### Inference with the Fine-tuned Model"
      ]
    },
    {
      "cell_type": "code",
      "execution_count": null,
      "metadata": {
        "id": "Y2c9_n-TPiaM"
      },
      "outputs": [],
      "source": [
        "model = PeftModel.from_pretrained(model, OUTPUT_DIR)"
      ]
    },
    {
      "cell_type": "markdown",
      "metadata": {
        "id": "LMg_1Y9nef8B"
      },
      "source": [
        "#### Example 1"
      ]
    },
    {
      "cell_type": "code",
      "execution_count": null,
      "metadata": {
        "id": "klolRU_SeZE4"
      },
      "outputs": [],
      "source": [
        "example = test_df.iloc[0]\n",
        "pprint(example.summary)"
      ]
    },
    {
      "cell_type": "code",
      "source": [
        "print(example.conversation)"
      ],
      "metadata": {
        "id": "RouJ1Grer9aO"
      },
      "execution_count": null,
      "outputs": []
    },
    {
      "cell_type": "code",
      "execution_count": null,
      "metadata": {
        "id": "T3K1anRYecQc"
      },
      "outputs": [],
      "source": [
        "%%time\n",
        "summary = summarize(model, example.prompt)"
      ]
    },
    {
      "cell_type": "code",
      "source": [
        "pprint(summary)"
      ],
      "metadata": {
        "id": "wcgo23kwHbyN"
      },
      "execution_count": null,
      "outputs": []
    },
    {
      "cell_type": "code",
      "source": [
        "pprint(summary.strip().split(\"\\n\")[0])"
      ],
      "metadata": {
        "id": "nw6y1L2IH-PA"
      },
      "execution_count": null,
      "outputs": []
    },
    {
      "cell_type": "markdown",
      "metadata": {
        "id": "Sqs9UVrqfctv"
      },
      "source": [
        "#### Example 2"
      ]
    },
    {
      "cell_type": "code",
      "execution_count": null,
      "metadata": {
        "id": "dlpCRGlXe-nB"
      },
      "outputs": [],
      "source": [
        "example = test_df.iloc[1]\n",
        "print(example.summary)"
      ]
    },
    {
      "cell_type": "code",
      "source": [
        "print(example.conversation)"
      ],
      "metadata": {
        "id": "mQhqri5pr61D"
      },
      "execution_count": null,
      "outputs": []
    },
    {
      "cell_type": "code",
      "execution_count": null,
      "metadata": {
        "id": "1InNF7HzfAfO"
      },
      "outputs": [],
      "source": [
        "%%time\n",
        "summary = summarize(model, example.prompt)"
      ]
    },
    {
      "cell_type": "code",
      "source": [
        "pprint(summary.strip().split(\"\\n\")[0])"
      ],
      "metadata": {
        "id": "JKYu0nobIO_b"
      },
      "execution_count": null,
      "outputs": []
    },
    {
      "cell_type": "markdown",
      "metadata": {
        "id": "nQLpkYf0fvLZ"
      },
      "source": [
        "#### Example 3"
      ]
    },
    {
      "cell_type": "code",
      "execution_count": null,
      "metadata": {
        "id": "nW56i1RCfzrH"
      },
      "outputs": [],
      "source": [
        "example = test_df.iloc[2]\n",
        "print(example.summary)"
      ]
    },
    {
      "cell_type": "code",
      "source": [
        "print(example.conversation)"
      ],
      "metadata": {
        "id": "M2KmTv8Sr2nn"
      },
      "execution_count": null,
      "outputs": []
    },
    {
      "cell_type": "code",
      "execution_count": null,
      "metadata": {
        "id": "rbGNYaOUf1IS"
      },
      "outputs": [],
      "source": [
        "%%time\n",
        "summary = summarize(model, example.prompt)"
      ]
    },
    {
      "cell_type": "code",
      "source": [
        "pprint(summary.strip().split(\"\\n\")[0])"
      ],
      "metadata": {
        "id": "Q-8_l82HIVIl"
      },
      "execution_count": null,
      "outputs": []
    },
    {
      "cell_type": "markdown",
      "metadata": {
        "id": "pfxoP-IvnheQ"
      },
      "source": [
        "## References\n",
        "\n",
        "- https://huggingface.co/datasets/Salesforce/dialogstudio\n",
        "- https://huggingface.co/meta-llama/Llama-2-7b-hf"
      ]
    }
  ],
  "metadata": {
    "colab": {
      "provenance": [],
      "include_colab_link": true
    },
    "kernelspec": {
      "display_name": "Python 3",
      "name": "python3"
    },
    "language_info": {
      "name": "python"
    },
    "widgets": {
      "application/vnd.jupyter.widget-state+json": {
        "0b17b38f37134fffb3a16cd904947aa1": {
          "model_module": "@jupyter-widgets/controls",
          "model_name": "VBoxModel",
          "model_module_version": "1.5.0",
          "state": {
            "_dom_classes": [],
            "_model_module": "@jupyter-widgets/controls",
            "_model_module_version": "1.5.0",
            "_model_name": "VBoxModel",
            "_view_count": null,
            "_view_module": "@jupyter-widgets/controls",
            "_view_module_version": "1.5.0",
            "_view_name": "VBoxView",
            "box_style": "",
            "children": [
              "IPY_MODEL_6632bc8faa804055bd12ff012381d5bb",
              "IPY_MODEL_dd82831007ed43e890a112f263748ed3",
              "IPY_MODEL_f83da4b1a06245daabe0308facd653e7",
              "IPY_MODEL_288bbb9e8ec14518b0568c1dc1093b85",
              "IPY_MODEL_25e8c88a034d4874865ffb6a0eac2701"
            ],
            "layout": "IPY_MODEL_12f6d04984164343a73247a56d114942"
          }
        },
        "6632bc8faa804055bd12ff012381d5bb": {
          "model_module": "@jupyter-widgets/controls",
          "model_name": "HTMLModel",
          "model_module_version": "1.5.0",
          "state": {
            "_dom_classes": [],
            "_model_module": "@jupyter-widgets/controls",
            "_model_module_version": "1.5.0",
            "_model_name": "HTMLModel",
            "_view_count": null,
            "_view_module": "@jupyter-widgets/controls",
            "_view_module_version": "1.5.0",
            "_view_name": "HTMLView",
            "description": "",
            "description_tooltip": null,
            "layout": "IPY_MODEL_a73b1245055a4f89923e9bb57c45cf59",
            "placeholder": "​",
            "style": "IPY_MODEL_ad1e237ba1264c6e9fda82a1eb246296",
            "value": "<center> <img\nsrc=https://huggingface.co/front/assets/huggingface_logo-noborder.svg\nalt='Hugging Face'> <br> Copy a token from <a\nhref=\"https://huggingface.co/settings/tokens\" target=\"_blank\">your Hugging Face\ntokens page</a> and paste it below. <br> Immediately click login after copying\nyour token or it might be stored in plain text in this notebook file. </center>"
          }
        },
        "dd82831007ed43e890a112f263748ed3": {
          "model_module": "@jupyter-widgets/controls",
          "model_name": "PasswordModel",
          "model_module_version": "1.5.0",
          "state": {
            "_dom_classes": [],
            "_model_module": "@jupyter-widgets/controls",
            "_model_module_version": "1.5.0",
            "_model_name": "PasswordModel",
            "_view_count": null,
            "_view_module": "@jupyter-widgets/controls",
            "_view_module_version": "1.5.0",
            "_view_name": "PasswordView",
            "continuous_update": true,
            "description": "Token:",
            "description_tooltip": null,
            "disabled": false,
            "layout": "IPY_MODEL_3f2783a605f342ef84669f9ab58ca5c2",
            "placeholder": "​",
            "style": "IPY_MODEL_990208d79cf74dc989e5432062d389cf",
            "value": ""
          }
        },
        "f83da4b1a06245daabe0308facd653e7": {
          "model_module": "@jupyter-widgets/controls",
          "model_name": "CheckboxModel",
          "model_module_version": "1.5.0",
          "state": {
            "_dom_classes": [],
            "_model_module": "@jupyter-widgets/controls",
            "_model_module_version": "1.5.0",
            "_model_name": "CheckboxModel",
            "_view_count": null,
            "_view_module": "@jupyter-widgets/controls",
            "_view_module_version": "1.5.0",
            "_view_name": "CheckboxView",
            "description": "Add token as git credential?",
            "description_tooltip": null,
            "disabled": false,
            "indent": true,
            "layout": "IPY_MODEL_b3baf30ace804de4a891642f59406c78",
            "style": "IPY_MODEL_b9384c9615cc484e8d67a13b43386f43",
            "value": true
          }
        },
        "288bbb9e8ec14518b0568c1dc1093b85": {
          "model_module": "@jupyter-widgets/controls",
          "model_name": "ButtonModel",
          "model_module_version": "1.5.0",
          "state": {
            "_dom_classes": [],
            "_model_module": "@jupyter-widgets/controls",
            "_model_module_version": "1.5.0",
            "_model_name": "ButtonModel",
            "_view_count": null,
            "_view_module": "@jupyter-widgets/controls",
            "_view_module_version": "1.5.0",
            "_view_name": "ButtonView",
            "button_style": "",
            "description": "Login",
            "disabled": false,
            "icon": "",
            "layout": "IPY_MODEL_8a88871ece674046aec4c34f9be3d2df",
            "style": "IPY_MODEL_28dd41bfafdf475d9ad04c8922d567b6",
            "tooltip": ""
          }
        },
        "25e8c88a034d4874865ffb6a0eac2701": {
          "model_module": "@jupyter-widgets/controls",
          "model_name": "HTMLModel",
          "model_module_version": "1.5.0",
          "state": {
            "_dom_classes": [],
            "_model_module": "@jupyter-widgets/controls",
            "_model_module_version": "1.5.0",
            "_model_name": "HTMLModel",
            "_view_count": null,
            "_view_module": "@jupyter-widgets/controls",
            "_view_module_version": "1.5.0",
            "_view_name": "HTMLView",
            "description": "",
            "description_tooltip": null,
            "layout": "IPY_MODEL_b375c5fce5b6465e85e102698d205596",
            "placeholder": "​",
            "style": "IPY_MODEL_7e9f0c9607d24bf49ef213f1335a4fda",
            "value": "\n<b>Pro Tip:</b> If you don't already have one, you can create a dedicated\n'notebooks' token with 'write' access, that you can then easily reuse for all\nnotebooks. </center>"
          }
        },
        "12f6d04984164343a73247a56d114942": {
          "model_module": "@jupyter-widgets/base",
          "model_name": "LayoutModel",
          "model_module_version": "1.2.0",
          "state": {
            "_model_module": "@jupyter-widgets/base",
            "_model_module_version": "1.2.0",
            "_model_name": "LayoutModel",
            "_view_count": null,
            "_view_module": "@jupyter-widgets/base",
            "_view_module_version": "1.2.0",
            "_view_name": "LayoutView",
            "align_content": null,
            "align_items": "center",
            "align_self": null,
            "border": null,
            "bottom": null,
            "display": "flex",
            "flex": null,
            "flex_flow": "column",
            "grid_area": null,
            "grid_auto_columns": null,
            "grid_auto_flow": null,
            "grid_auto_rows": null,
            "grid_column": null,
            "grid_gap": null,
            "grid_row": null,
            "grid_template_areas": null,
            "grid_template_columns": null,
            "grid_template_rows": null,
            "height": null,
            "justify_content": null,
            "justify_items": null,
            "left": null,
            "margin": null,
            "max_height": null,
            "max_width": null,
            "min_height": null,
            "min_width": null,
            "object_fit": null,
            "object_position": null,
            "order": null,
            "overflow": null,
            "overflow_x": null,
            "overflow_y": null,
            "padding": null,
            "right": null,
            "top": null,
            "visibility": null,
            "width": "50%"
          }
        },
        "a73b1245055a4f89923e9bb57c45cf59": {
          "model_module": "@jupyter-widgets/base",
          "model_name": "LayoutModel",
          "model_module_version": "1.2.0",
          "state": {
            "_model_module": "@jupyter-widgets/base",
            "_model_module_version": "1.2.0",
            "_model_name": "LayoutModel",
            "_view_count": null,
            "_view_module": "@jupyter-widgets/base",
            "_view_module_version": "1.2.0",
            "_view_name": "LayoutView",
            "align_content": null,
            "align_items": null,
            "align_self": null,
            "border": null,
            "bottom": null,
            "display": null,
            "flex": null,
            "flex_flow": null,
            "grid_area": null,
            "grid_auto_columns": null,
            "grid_auto_flow": null,
            "grid_auto_rows": null,
            "grid_column": null,
            "grid_gap": null,
            "grid_row": null,
            "grid_template_areas": null,
            "grid_template_columns": null,
            "grid_template_rows": null,
            "height": null,
            "justify_content": null,
            "justify_items": null,
            "left": null,
            "margin": null,
            "max_height": null,
            "max_width": null,
            "min_height": null,
            "min_width": null,
            "object_fit": null,
            "object_position": null,
            "order": null,
            "overflow": null,
            "overflow_x": null,
            "overflow_y": null,
            "padding": null,
            "right": null,
            "top": null,
            "visibility": null,
            "width": null
          }
        },
        "ad1e237ba1264c6e9fda82a1eb246296": {
          "model_module": "@jupyter-widgets/controls",
          "model_name": "DescriptionStyleModel",
          "model_module_version": "1.5.0",
          "state": {
            "_model_module": "@jupyter-widgets/controls",
            "_model_module_version": "1.5.0",
            "_model_name": "DescriptionStyleModel",
            "_view_count": null,
            "_view_module": "@jupyter-widgets/base",
            "_view_module_version": "1.2.0",
            "_view_name": "StyleView",
            "description_width": ""
          }
        },
        "3f2783a605f342ef84669f9ab58ca5c2": {
          "model_module": "@jupyter-widgets/base",
          "model_name": "LayoutModel",
          "model_module_version": "1.2.0",
          "state": {
            "_model_module": "@jupyter-widgets/base",
            "_model_module_version": "1.2.0",
            "_model_name": "LayoutModel",
            "_view_count": null,
            "_view_module": "@jupyter-widgets/base",
            "_view_module_version": "1.2.0",
            "_view_name": "LayoutView",
            "align_content": null,
            "align_items": null,
            "align_self": null,
            "border": null,
            "bottom": null,
            "display": null,
            "flex": null,
            "flex_flow": null,
            "grid_area": null,
            "grid_auto_columns": null,
            "grid_auto_flow": null,
            "grid_auto_rows": null,
            "grid_column": null,
            "grid_gap": null,
            "grid_row": null,
            "grid_template_areas": null,
            "grid_template_columns": null,
            "grid_template_rows": null,
            "height": null,
            "justify_content": null,
            "justify_items": null,
            "left": null,
            "margin": null,
            "max_height": null,
            "max_width": null,
            "min_height": null,
            "min_width": null,
            "object_fit": null,
            "object_position": null,
            "order": null,
            "overflow": null,
            "overflow_x": null,
            "overflow_y": null,
            "padding": null,
            "right": null,
            "top": null,
            "visibility": null,
            "width": null
          }
        },
        "990208d79cf74dc989e5432062d389cf": {
          "model_module": "@jupyter-widgets/controls",
          "model_name": "DescriptionStyleModel",
          "model_module_version": "1.5.0",
          "state": {
            "_model_module": "@jupyter-widgets/controls",
            "_model_module_version": "1.5.0",
            "_model_name": "DescriptionStyleModel",
            "_view_count": null,
            "_view_module": "@jupyter-widgets/base",
            "_view_module_version": "1.2.0",
            "_view_name": "StyleView",
            "description_width": ""
          }
        },
        "b3baf30ace804de4a891642f59406c78": {
          "model_module": "@jupyter-widgets/base",
          "model_name": "LayoutModel",
          "model_module_version": "1.2.0",
          "state": {
            "_model_module": "@jupyter-widgets/base",
            "_model_module_version": "1.2.0",
            "_model_name": "LayoutModel",
            "_view_count": null,
            "_view_module": "@jupyter-widgets/base",
            "_view_module_version": "1.2.0",
            "_view_name": "LayoutView",
            "align_content": null,
            "align_items": null,
            "align_self": null,
            "border": null,
            "bottom": null,
            "display": null,
            "flex": null,
            "flex_flow": null,
            "grid_area": null,
            "grid_auto_columns": null,
            "grid_auto_flow": null,
            "grid_auto_rows": null,
            "grid_column": null,
            "grid_gap": null,
            "grid_row": null,
            "grid_template_areas": null,
            "grid_template_columns": null,
            "grid_template_rows": null,
            "height": null,
            "justify_content": null,
            "justify_items": null,
            "left": null,
            "margin": null,
            "max_height": null,
            "max_width": null,
            "min_height": null,
            "min_width": null,
            "object_fit": null,
            "object_position": null,
            "order": null,
            "overflow": null,
            "overflow_x": null,
            "overflow_y": null,
            "padding": null,
            "right": null,
            "top": null,
            "visibility": null,
            "width": null
          }
        },
        "b9384c9615cc484e8d67a13b43386f43": {
          "model_module": "@jupyter-widgets/controls",
          "model_name": "DescriptionStyleModel",
          "model_module_version": "1.5.0",
          "state": {
            "_model_module": "@jupyter-widgets/controls",
            "_model_module_version": "1.5.0",
            "_model_name": "DescriptionStyleModel",
            "_view_count": null,
            "_view_module": "@jupyter-widgets/base",
            "_view_module_version": "1.2.0",
            "_view_name": "StyleView",
            "description_width": ""
          }
        },
        "8a88871ece674046aec4c34f9be3d2df": {
          "model_module": "@jupyter-widgets/base",
          "model_name": "LayoutModel",
          "model_module_version": "1.2.0",
          "state": {
            "_model_module": "@jupyter-widgets/base",
            "_model_module_version": "1.2.0",
            "_model_name": "LayoutModel",
            "_view_count": null,
            "_view_module": "@jupyter-widgets/base",
            "_view_module_version": "1.2.0",
            "_view_name": "LayoutView",
            "align_content": null,
            "align_items": null,
            "align_self": null,
            "border": null,
            "bottom": null,
            "display": null,
            "flex": null,
            "flex_flow": null,
            "grid_area": null,
            "grid_auto_columns": null,
            "grid_auto_flow": null,
            "grid_auto_rows": null,
            "grid_column": null,
            "grid_gap": null,
            "grid_row": null,
            "grid_template_areas": null,
            "grid_template_columns": null,
            "grid_template_rows": null,
            "height": null,
            "justify_content": null,
            "justify_items": null,
            "left": null,
            "margin": null,
            "max_height": null,
            "max_width": null,
            "min_height": null,
            "min_width": null,
            "object_fit": null,
            "object_position": null,
            "order": null,
            "overflow": null,
            "overflow_x": null,
            "overflow_y": null,
            "padding": null,
            "right": null,
            "top": null,
            "visibility": null,
            "width": null
          }
        },
        "28dd41bfafdf475d9ad04c8922d567b6": {
          "model_module": "@jupyter-widgets/controls",
          "model_name": "ButtonStyleModel",
          "model_module_version": "1.5.0",
          "state": {
            "_model_module": "@jupyter-widgets/controls",
            "_model_module_version": "1.5.0",
            "_model_name": "ButtonStyleModel",
            "_view_count": null,
            "_view_module": "@jupyter-widgets/base",
            "_view_module_version": "1.2.0",
            "_view_name": "StyleView",
            "button_color": null,
            "font_weight": ""
          }
        },
        "b375c5fce5b6465e85e102698d205596": {
          "model_module": "@jupyter-widgets/base",
          "model_name": "LayoutModel",
          "model_module_version": "1.2.0",
          "state": {
            "_model_module": "@jupyter-widgets/base",
            "_model_module_version": "1.2.0",
            "_model_name": "LayoutModel",
            "_view_count": null,
            "_view_module": "@jupyter-widgets/base",
            "_view_module_version": "1.2.0",
            "_view_name": "LayoutView",
            "align_content": null,
            "align_items": null,
            "align_self": null,
            "border": null,
            "bottom": null,
            "display": null,
            "flex": null,
            "flex_flow": null,
            "grid_area": null,
            "grid_auto_columns": null,
            "grid_auto_flow": null,
            "grid_auto_rows": null,
            "grid_column": null,
            "grid_gap": null,
            "grid_row": null,
            "grid_template_areas": null,
            "grid_template_columns": null,
            "grid_template_rows": null,
            "height": null,
            "justify_content": null,
            "justify_items": null,
            "left": null,
            "margin": null,
            "max_height": null,
            "max_width": null,
            "min_height": null,
            "min_width": null,
            "object_fit": null,
            "object_position": null,
            "order": null,
            "overflow": null,
            "overflow_x": null,
            "overflow_y": null,
            "padding": null,
            "right": null,
            "top": null,
            "visibility": null,
            "width": null
          }
        },
        "7e9f0c9607d24bf49ef213f1335a4fda": {
          "model_module": "@jupyter-widgets/controls",
          "model_name": "DescriptionStyleModel",
          "model_module_version": "1.5.0",
          "state": {
            "_model_module": "@jupyter-widgets/controls",
            "_model_module_version": "1.5.0",
            "_model_name": "DescriptionStyleModel",
            "_view_count": null,
            "_view_module": "@jupyter-widgets/base",
            "_view_module_version": "1.2.0",
            "_view_name": "StyleView",
            "description_width": ""
          }
        }
      }
    }
  },
  "nbformat": 4,
  "nbformat_minor": 0
}